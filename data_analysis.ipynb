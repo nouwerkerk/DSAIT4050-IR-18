{
 "cells": [
  {
   "cell_type": "code",
   "metadata": {
    "ExecuteTime": {
     "end_time": "2025-04-04T16:37:55.691782Z",
     "start_time": "2025-04-04T16:37:55.685828Z"
    }
   },
   "source": [
    "FILE_PATH = \"results_trec_covid.txt\"\n",
    "# FILE_PATH = \"results_webis.txt\"\n",
    "# FILE_PATH = \"results_msmarco.txt\""
   ],
   "outputs": [],
   "execution_count": 7
  },
  {
   "cell_type": "code",
   "metadata": {
    "ExecuteTime": {
     "end_time": "2025-04-04T16:37:55.733234Z",
     "start_time": "2025-04-04T16:37:55.713698Z"
    }
   },
   "source": [
    "import pandas as pd\n",
    "import numpy as np\n",
    "import re\n",
    "from collections import defaultdict\n",
    "\n",
    "\n",
    "def load_data(f=FILE_PATH):\n",
    "\n",
    "    # Read the file\n",
    "    with open(f, \"r\") as f:\n",
    "        lines = f.readlines()\n",
    "\n",
    "    # Initialize a dictionary to store parsed data\n",
    "    data = {\"Subset\": [], \"nDCG@10\": [], \"MAP\": [], \"MRR\": []}\n",
    "\n",
    "    # Temporary variables\n",
    "    subset = None\n",
    "\n",
    "    # Iterate through lines to extract information\n",
    "    for line in lines:\n",
    "        line = line.strip()\n",
    "        if line.startswith(\"Subset\"):\n",
    "            subset = int(re.search(r'\\d+', line).group())  # Extract subset number\n",
    "        elif line.startswith(\"nDCG@10\"):\n",
    "            ndcg = float(line.split(\":\")[1].strip())\n",
    "        elif line.startswith(\"MAP\"):\n",
    "            map_val = float(line.split(\":\")[1].strip())\n",
    "        elif line.startswith(\"MRR\"):\n",
    "            mrr = float(line.split(\":\")[1].strip())\n",
    "            # Append extracted values to dictionary\n",
    "            data[\"Subset\"].append(subset)\n",
    "            data[\"nDCG@10\"].append(ndcg)\n",
    "            data[\"MAP\"].append(map_val)\n",
    "            data[\"MRR\"].append(mrr)\n",
    "\n",
    "    # Convert dictionary to DataFrame\n",
    "    df = pd.DataFrame(data)\n",
    "\n",
    "    return df\n",
    "\n",
    "def load_data_avg():\n",
    "\n",
    "    all_data = [load_data(d) for d in [\"results_trec_covid.txt\", \"results_webis.txt\", \"results_msmarco.txt\"]]\n",
    "\n",
    "    # Initialize a defaultdict to collect all values by subset\n",
    "    combined = defaultdict(lambda: {\"nDCG@10\": [], \"MAP\": [], \"MRR\": []})\n",
    "\n",
    "    # Populate the defaultdict\n",
    "    for data in all_data:\n",
    "        for i, subset in enumerate(data[\"Subset\"]):\n",
    "            combined[subset][\"nDCG@10\"].append(data[\"nDCG@10\"][i])\n",
    "            combined[subset][\"MAP\"].append(data[\"MAP\"][i])\n",
    "            combined[subset][\"MRR\"].append(data[\"MRR\"][i])\n",
    "\n",
    "    # Compute averages\n",
    "    final_data = {\"Subset\": [], \"nDCG@10\": [], \"MAP\": [], \"MRR\": []}\n",
    "    for subset, metrics in combined.items():\n",
    "        final_data[\"Subset\"].append(subset)\n",
    "        final_data[\"nDCG@10\"].append(np.mean(metrics[\"nDCG@10\"]))\n",
    "        final_data[\"MAP\"].append(np.mean(metrics[\"MAP\"]))\n",
    "        final_data[\"MRR\"].append(np.mean(metrics[\"MRR\"]))\n",
    "\n",
    "    df = pd.DataFrame(final_data)\n",
    "\n",
    "    return df"
   ],
   "outputs": [],
   "execution_count": 8
  },
  {
   "cell_type": "code",
   "metadata": {
    "ExecuteTime": {
     "end_time": "2025-04-04T16:37:55.774914Z",
     "start_time": "2025-04-04T16:37:55.764862Z"
    }
   },
   "source": [
    "import itertools\n",
    "\n",
    "paraphrases = [\n",
    "    \"Improve the search effectiveness by suggesting expansion terms for the query\",\n",
    "    \"Recommend expansion terms for the query to improve search results\",\n",
    "    \"Improve the search effectiveness by suggesting useful expansion terms for the query\",\n",
    "    \"Maximize search utility by suggesting relevant expansion phrases for the query\",\n",
    "    \"Enhance search efficiency by proposing valuable terms to expand the query\",\n",
    "    \"Elevate search performance by recommending relevant expansion phrases for the query\",\n",
    "    \"Boost the search accuracy by providing helpful expansion terms to enrich the query\",\n",
    "    \"Increase the search efficacy by offering beneficial expansion keywords for the query\",\n",
    "    \"Optimize search results by suggesting meaningful expansion terms to enhance the query\",\n",
    "    \"Enhance search outcomes by recommending beneficial expansion terms to supplement the query\"\n",
    "]\n",
    "all_paraphrase_subsets = [subset for L in range(1, len(paraphrases) + 1) for subset in itertools.combinations(paraphrases, L)]\n",
    "\n",
    "def subset_num_to_paraphrases(num):\n",
    "    return all_paraphrase_subsets[num]"
   ],
   "outputs": [],
   "execution_count": 9
  },
  {
   "cell_type": "code",
   "metadata": {
    "ExecuteTime": {
     "end_time": "2025-04-04T16:37:55.903142Z",
     "start_time": "2025-04-04T16:37:55.789113Z"
    }
   },
   "source": [
    "# df = load_data()\n",
    "df = load_data_avg()\n",
    "\n",
    "df_sorted = df.sort_values(by='nDCG@10', ascending=False)\n",
    "print('Highest nDCG@10 score:\\n')\n",
    "print(df_sorted.head(1))\n",
    "\n",
    "print('\\nSubset:')\n",
    "print(subset_num_to_paraphrases(int(df_sorted.iloc[0]['Subset'])))"
   ],
   "outputs": [
    {
     "name": "stdout",
     "output_type": "stream",
     "text": [
      "Highest nDCG@10 score:\n",
      "\n",
      "   Subset   nDCG@10       MAP       MRR\n",
      "1       1  0.452837  0.238742  0.678197\n",
      "\n",
      "Subset:\n",
      "('Recommend expansion terms for the query to improve search results',)\n"
     ]
    }
   ],
   "execution_count": 10
  },
  {
   "cell_type": "code",
   "metadata": {
    "ExecuteTime": {
     "end_time": "2025-04-04T16:37:55.987603Z",
     "start_time": "2025-04-04T16:37:55.964935Z"
    }
   },
   "source": [
    "df_sorted = df.sort_values(by='MAP', ascending=False)\n",
    "print('Highest MAP score:\\n')\n",
    "print(df_sorted.head(1))\n",
    "\n",
    "print('\\nSubset:')\n",
    "print(subset_num_to_paraphrases(int(df_sorted.iloc[0]['Subset'])))"
   ],
   "outputs": [
    {
     "name": "stdout",
     "output_type": "stream",
     "text": [
      "Highest MAP score:\n",
      "\n",
      "     Subset   nDCG@10       MAP       MRR\n",
      "271     271  0.451982  0.240604  0.688535\n",
      "\n",
      "Subset:\n",
      "('Recommend expansion terms for the query to improve search results', 'Improve the search effectiveness by suggesting useful expansion terms for the query', 'Elevate search performance by recommending relevant expansion phrases for the query', 'Increase the search efficacy by offering beneficial expansion keywords for the query')\n"
     ]
    }
   ],
   "execution_count": 11
  },
  {
   "cell_type": "code",
   "metadata": {
    "ExecuteTime": {
     "end_time": "2025-04-04T16:37:56.097719Z",
     "start_time": "2025-04-04T16:37:56.081047Z"
    }
   },
   "source": [
    "df_sorted = df.sort_values(by='MRR', ascending=False)\n",
    "print('Highest MRR score:\\n')\n",
    "print(df_sorted.head(1))\n",
    "\n",
    "print('\\nSubset:')\n",
    "print(subset_num_to_paraphrases(int(df_sorted.iloc[0]['Subset'])))"
   ],
   "outputs": [
    {
     "name": "stdout",
     "output_type": "stream",
     "text": [
      "Highest MRR score:\n",
      "\n",
      "     Subset   nDCG@10       MAP       MRR\n",
      "332     332  0.446523  0.236218  0.708831\n",
      "\n",
      "Subset:\n",
      "('Improve the search effectiveness by suggesting useful expansion terms for the query', 'Enhance search efficiency by proposing valuable terms to expand the query', 'Elevate search performance by recommending relevant expansion phrases for the query', 'Optimize search results by suggesting meaningful expansion terms to enhance the query')\n"
     ]
    }
   ],
   "execution_count": 12
  },
  {
   "cell_type": "code",
   "metadata": {
    "ExecuteTime": {
     "end_time": "2025-04-04T16:37:56.172191Z",
     "start_time": "2025-04-04T16:37:56.135560Z"
    }
   },
   "source": [
    "# Avg per subset size\n",
    "\n",
    "def filter_condition(subset_num, subset_size):\n",
    "    return len(subset_num_to_paraphrases(subset_num)) == subset_size\n",
    "\n",
    "all_averages = []\n",
    "\n",
    "for i in range(1, 11):\n",
    "    averages = {}\n",
    "    averages[\"Subset size\"] = i\n",
    "    filtered_df = df[df[\"Subset\"].apply(lambda x: filter_condition(x, i))]\n",
    "    averages[\"nDCG@10\"] = filtered_df[\"nDCG@10\"].mean()\n",
    "    averages[\"MAP\"] = filtered_df[\"MAP\"].mean()\n",
    "    averages[\"MRR\"] = filtered_df[\"MRR\"].mean()\n",
    "    all_averages.append(averages)\n",
    "\n",
    "print(pd.DataFrame(all_averages))"
   ],
   "outputs": [
    {
     "name": "stdout",
     "output_type": "stream",
     "text": [
      "   Subset size   nDCG@10       MAP       MRR\n",
      "0            1  0.433482  0.227988  0.669127\n",
      "1            2  0.434276  0.230136  0.668303\n",
      "2            3  0.435946  0.231687  0.667966\n",
      "3            4  0.437063  0.233346  0.668983\n",
      "4            5  0.438424  0.234475  0.671241\n",
      "5            6  0.438983  0.235250  0.670496\n",
      "6            7  0.438783  0.235725  0.668148\n",
      "7            8  0.439340  0.236065  0.666238\n",
      "8            9  0.439588  0.236526  0.665874\n",
      "9           10  0.439707  0.236089  0.665640\n"
     ]
    }
   ],
   "execution_count": 13
  },
  {
   "cell_type": "code",
   "metadata": {
    "ExecuteTime": {
     "end_time": "2025-04-04T16:37:56.226947Z",
     "start_time": "2025-04-04T16:37:56.194655Z"
    }
   },
   "source": [
    "# Avg per paraphrase\n",
    "\n",
    "def filter_condition(subset_num, paraphrase):\n",
    "    if paraphrase in subset_num_to_paraphrases(subset_num):\n",
    "        return True\n",
    "    return False\n",
    "\n",
    "all_averages = []\n",
    "\n",
    "for i in range(0, 10):\n",
    "    averages = {}\n",
    "    averages[\"Paraphrase\"] = paraphrases[i]\n",
    "    filtered_df = df[df[\"Subset\"].apply(lambda x: filter_condition(x, paraphrases[i]))]\n",
    "    averages[\"nDCG@10\"] = filtered_df[\"nDCG@10\"].mean()\n",
    "    averages[\"MAP\"] = filtered_df[\"MAP\"].mean()\n",
    "    averages[\"MRR\"] = filtered_df[\"MRR\"].mean()\n",
    "    all_averages.append(averages)\n",
    "\n",
    "print(pd.DataFrame(all_averages))"
   ],
   "outputs": [
    {
     "name": "stdout",
     "output_type": "stream",
     "text": [
      "                                          Paraphrase   nDCG@10       MAP  \\\n",
      "0  Improve the search effectiveness by suggesting...  0.438485  0.234423   \n",
      "1  Recommend expansion terms for the query to imp...  0.439335  0.235347   \n",
      "2  Improve the search effectiveness by suggesting...  0.440452  0.235536   \n",
      "3  Maximize search utility by suggesting relevant...  0.435511  0.233734   \n",
      "4  Enhance search efficiency by proposing valuabl...  0.437806  0.234183   \n",
      "5  Elevate search performance by recommending rel...  0.439037  0.234631   \n",
      "6  Boost the search accuracy by providing helpful...  0.438573  0.234536   \n",
      "7  Increase the search efficacy by offering benef...  0.438559  0.235252   \n",
      "8  Optimize search results by suggesting meaningf...  0.438639  0.234763   \n",
      "9  Enhance search outcomes by recommending benefi...  0.435879  0.233114   \n",
      "\n",
      "        MRR  \n",
      "0  0.668180  \n",
      "1  0.667064  \n",
      "2  0.669884  \n",
      "3  0.666157  \n",
      "4  0.669416  \n",
      "5  0.671995  \n",
      "6  0.668477  \n",
      "7  0.671841  \n",
      "8  0.672741  \n",
      "9  0.668611  \n"
     ]
    }
   ],
   "execution_count": 14
  },
  {
   "metadata": {
    "ExecuteTime": {
     "end_time": "2025-04-04T16:37:58.065218Z",
     "start_time": "2025-04-04T16:37:56.251600Z"
    }
   },
   "cell_type": "code",
   "source": [
    "import matplotlib.pyplot as plt\n",
    "import numpy as np\n",
    "\n",
    "def getMeanEvaluationforLength(eval, i):\n",
    "    return df.loc[df.apply(lambda row: len(subset_num_to_paraphrases(int(row['Subset']))) == i, axis=1), eval].mean()\n",
    "\n",
    "# Sample data\n",
    "x_labels = [f'Length {i+1}' for i in range(10)]\n",
    "nDCG_10 = [getMeanEvaluationforLength('nDCG@10', i+1) for i in range(10)]\n",
    "MAP = [getMeanEvaluationforLength('MAP', i+1) for i in range(10)]\n",
    "MRR = [getMeanEvaluationforLength('MRR', i+1) for i in range(10)]\n",
    "\n",
    "x = np.arange(len(x_labels))  # Label locations\n",
    "width = 0.25  # Bar width\n",
    "\n",
    "fig, ax = plt.subplots(figsize=(10, 6))\n",
    "\n",
    "# Plot bars\n",
    "ax.bar(x - width, nDCG_10, width, label='nDCG@10', color='blue', alpha=0.7)\n",
    "ax.bar(x, MAP, width, label='MAP', color='green', alpha=0.7)\n",
    "ax.bar(x + width, MRR, width, label='MRR', color='red', alpha=0.7)\n",
    "\n",
    "# Labels and title\n",
    "ax.set_xlabel(\"Documents\")\n",
    "ax.set_ylabel(\"Scores\")\n",
    "ax.set_title(\"Evaluation Metrics per Document\")\n",
    "ax.set_xticks(x)\n",
    "ax.set_xticklabels(x_labels, rotation=45)\n",
    "ax.legend()\n",
    "\n",
    "plt.show()\n"
   ],
   "outputs": [
    {
     "data": {
      "text/plain": [
       "<Figure size 1000x600 with 1 Axes>"
      ],
      "image/png": "[encoded data removed]"
     },
     "metadata": {},
     "output_type": "display_data"
    }
   ],
   "execution_count": 15
  },
  {
   "metadata": {
    "ExecuteTime": {
     "end_time": "2025-04-04T16:37:58.677205Z",
     "start_time": "2025-04-04T16:37:58.131950Z"
    }
   },
   "cell_type": "code",
   "source": [
    "import matplotlib.pyplot as plt\n",
    "import numpy as np\n",
    "\n",
    "def getMeanEvaluationforParaphrase(eval, i):\n",
    "    return df.loc[df.apply(lambda row: paraphrases[i] in subset_num_to_paraphrases(int(row['Subset'])), axis=1), eval].mean()\n",
    "\n",
    "# Sample data\n",
    "x_labels = [f'Paraphrase {i}' for i in range(10)]\n",
    "nDCG_10 = [getMeanEvaluationforParaphrase('nDCG@10', i) for i in range(10)]\n",
    "MAP = [getMeanEvaluationforParaphrase('MAP', i) for i in range(10)]\n",
    "MRR = [getMeanEvaluationforParaphrase('MRR', i) for i in range(10)]\n",
    "\n",
    "x = np.arange(len(x_labels))  # Label locations\n",
    "width = 0.25  # Bar width\n",
    "\n",
    "fig, ax = plt.subplots(figsize=(10, 6))\n",
    "\n",
    "# Plot bars\n",
    "ax.bar(x - width, nDCG_10, width, label='nDCG@10', color='blue', alpha=0.7)\n",
    "ax.bar(x, MAP, width, label='MAP', color='green', alpha=0.7)\n",
    "ax.bar(x + width, MRR, width, label='MRR', color='red', alpha=0.7)\n",
    "\n",
    "# Labels and title\n",
    "ax.set_xlabel(\"Documents\")\n",
    "ax.set_ylabel(\"Scores\")\n",
    "ax.set_title(\"Evaluation Metrics per Document\")\n",
    "ax.set_xticks(x)\n",
    "ax.set_xticklabels(x_labels, rotation=45)\n",
    "ax.legend()\n",
    "\n",
    "plt.show()"
   ],
   "outputs": [
    {
     "data": {
      "text/plain": [
       "<Figure size 1000x600 with 1 Axes>"
      ],
      "image/png": "[encoded data removed]"
     },
     "metadata": {},
     "output_type": "display_data"
    }
   ],
   "execution_count": 16
  }
 ],
 "metadata": {
  "kernelspec": {
   "display_name": "IR",
   "language": "python",
   "name": "python3"
  },
  "language_info": {
   "codemirror_mode": {
    "name": "ipython",
    "version": 3
   },
   "file_extension": ".py",
   "mimetype": "text/x-python",
   "name": "python",
   "nbconvert_exporter": "python",
   "pygments_lexer": "ipython3",
   "version": "3.11.0"
  }
 },
 "nbformat": 4,
 "nbformat_minor": 2
}
