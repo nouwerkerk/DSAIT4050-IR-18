{
 "cells": [
  {
   "cell_type": "code",
   "execution_count": 1,
   "metadata": {},
   "outputs": [],
   "source": [
    "import pyterrier as pt\n",
    "from pathlib import Path"
   ]
  },
  {
   "cell_type": "code",
   "execution_count": 2,
   "metadata": {},
   "outputs": [],
   "source": [
    "#TREC Passage 19\n",
    "dataset_msmarco = pt.datasets.get_dataset(\"irds:msmarco-passage/trec-dl-2019\")\n",
    "\n",
    "#TREC Robust 04\n",
    "dataset_trec_robust = pt.datasets.get_dataset(\"irds:disks45/nocr/trec-robust-2004\")\n",
    "\n",
    "#Webis Touche\n",
    "dataset_webis = pt.datasets.get_dataset(\"irds:beir/webis-touche2020\")\n",
    "\n",
    "#DBPedia Entity\n",
    "dataset_dbpedia = pt.datasets.get_dataset(\"irds:beir/dbpedia-entity\")"
   ]
  },
  {
   "cell_type": "code",
   "execution_count": 3,
   "metadata": {},
   "outputs": [
    {
     "name": "stderr",
     "output_type": "stream",
     "text": [
      "Java started (triggered by TerrierIndexer.__init__) and loaded: pyterrier.java, pyterrier.terrier.java [version=5.11 (build: craig.macdonald 2025-01-13 21:29), helper_version=0.0.8]\n",
      "beir/webis-touche2020 documents:   0%|          | 265/382545 [00:02<29:19, 217.22it/s]"
     ]
    },
    {
     "name": "stdout",
     "output_type": "stream",
     "text": [
      "15:31:20.639 [main] WARN org.terrier.structures.indexing.Indexer -- Adding an empty document to the index (196753f-2019-04-18T11:45:35Z-00007-000) - further warnings are suppressed\n"
     ]
    },
    {
     "name": "stderr",
     "output_type": "stream",
     "text": [
      "beir/webis-touche2020 documents:  28%|██▊       | 106265/382545 [04:10<06:45, 681.20it/s]"
     ]
    },
    {
     "ename": "KeyboardInterrupt",
     "evalue": "",
     "output_type": "error",
     "traceback": [
      "\u001b[1;31m---------------------------------------------------------------------------\u001b[0m",
      "\u001b[1;31mKeyboardInterrupt\u001b[0m                         Traceback (most recent call last)",
      "Cell \u001b[1;32mIn[3], line 9\u001b[0m\n\u001b[0;32m      1\u001b[0m idx_path \u001b[38;5;241m=\u001b[39m Path\u001b[38;5;241m.\u001b[39mcwd() \u001b[38;5;241m/\u001b[39m \u001b[38;5;124m\"\u001b[39m\u001b[38;5;124mindices\u001b[39m\u001b[38;5;124m\"\u001b[39m \u001b[38;5;241m/\u001b[39m \u001b[38;5;124m\"\u001b[39m\u001b[38;5;124mwebis_index\u001b[39m\u001b[38;5;124m\"\u001b[39m\n\u001b[0;32m      3\u001b[0m index \u001b[38;5;241m=\u001b[39m \u001b[43mpt\u001b[49m\u001b[38;5;241;43m.\u001b[39;49m\u001b[43mIterDictIndexer\u001b[49m\u001b[43m(\u001b[49m\n\u001b[0;32m      4\u001b[0m \u001b[43m    \u001b[49m\u001b[38;5;28;43mstr\u001b[39;49m\u001b[43m(\u001b[49m\u001b[43midx_path\u001b[49m\u001b[43m)\u001b[49m\u001b[43m,\u001b[49m\n\u001b[0;32m      5\u001b[0m \u001b[43m        \u001b[49m\u001b[43mmeta\u001b[49m\u001b[38;5;241;43m=\u001b[39;49m\u001b[43m{\u001b[49m\n\u001b[0;32m      6\u001b[0m \u001b[43m        \u001b[49m\u001b[38;5;124;43m\"\u001b[39;49m\u001b[38;5;124;43mdocno\u001b[39;49m\u001b[38;5;124;43m\"\u001b[39;49m\u001b[43m:\u001b[49m\u001b[43m \u001b[49m\u001b[38;5;241;43m39\u001b[39;49m\u001b[43m,\u001b[49m\n\u001b[0;32m      7\u001b[0m \u001b[43m        \u001b[49m\u001b[38;5;124;43m\"\u001b[39;49m\u001b[38;5;124;43mtext\u001b[39;49m\u001b[38;5;124;43m\"\u001b[39;49m\u001b[43m:\u001b[49m\u001b[43m \u001b[49m\u001b[38;5;241;43m131072\u001b[39;49m\u001b[43m,\u001b[49m\n\u001b[0;32m      8\u001b[0m \u001b[43m    \u001b[49m\u001b[43m}\u001b[49m\u001b[43m,\u001b[49m\n\u001b[1;32m----> 9\u001b[0m \u001b[43m)\u001b[49m\u001b[38;5;241;43m.\u001b[39;49m\u001b[43mindex\u001b[49m\u001b[43m(\u001b[49m\u001b[43mdataset_webis\u001b[49m\u001b[38;5;241;43m.\u001b[39;49m\u001b[43mget_corpus_iter\u001b[49m\u001b[43m(\u001b[49m\u001b[43m)\u001b[49m\u001b[43m)\u001b[49m\n",
      "File \u001b[1;32mc:\\Anaconda3\\envs\\IR\\Lib\\site-packages\\pyterrier\\utils.py:207\u001b[0m, in \u001b[0;36mpre_invocation_decorator.<locals>._decorator_wrapper.<locals>._wrapper\u001b[1;34m(*args, **kwargs)\u001b[0m\n\u001b[0;32m    204\u001b[0m \u001b[38;5;129m@wraps\u001b[39m(fn)\n\u001b[0;32m    205\u001b[0m \u001b[38;5;28;01mdef\u001b[39;00m\u001b[38;5;250m \u001b[39m\u001b[38;5;21m_wrapper\u001b[39m(\u001b[38;5;241m*\u001b[39margs, \u001b[38;5;241m*\u001b[39m\u001b[38;5;241m*\u001b[39mkwargs):\n\u001b[0;32m    206\u001b[0m     decorator(fn)\n\u001b[1;32m--> 207\u001b[0m     \u001b[38;5;28;01mreturn\u001b[39;00m \u001b[43mfn\u001b[49m\u001b[43m(\u001b[49m\u001b[38;5;241;43m*\u001b[39;49m\u001b[43margs\u001b[49m\u001b[43m,\u001b[49m\u001b[43m \u001b[49m\u001b[38;5;241;43m*\u001b[39;49m\u001b[38;5;241;43m*\u001b[39;49m\u001b[43mkwargs\u001b[49m\u001b[43m)\u001b[49m\n",
      "File \u001b[1;32mc:\\Anaconda3\\envs\\IR\\Lib\\site-packages\\pyterrier\\terrier\\index.py:675\u001b[0m, in \u001b[0;36m_IterDictIndexer_nofifo.index\u001b[1;34m(self, it, fields, meta, meta_lengths, threads)\u001b[0m\n\u001b[0;32m    673\u001b[0m javaDocCollection \u001b[38;5;241m=\u001b[39m pt\u001b[38;5;241m.\u001b[39mterrier\u001b[38;5;241m.\u001b[39mJ\u001b[38;5;241m.\u001b[39mCollectionFromDocumentIterator(collectionIterator)\n\u001b[0;32m    674\u001b[0m \u001b[38;5;66;03m# remove once 5.7 is now the minimum version\u001b[39;00m\n\u001b[1;32m--> 675\u001b[0m \u001b[43mindexer\u001b[49m\u001b[38;5;241;43m.\u001b[39;49m\u001b[43mindex\u001b[49m\u001b[43m(\u001b[49m\u001b[43mjavaDocCollection\u001b[49m\u001b[43m \u001b[49m\u001b[38;5;28;43;01mif\u001b[39;49;00m\u001b[43m \u001b[49m\u001b[43mpt\u001b[49m\u001b[38;5;241;43m.\u001b[39;49m\u001b[43mterrier\u001b[49m\u001b[38;5;241;43m.\u001b[39;49m\u001b[43mcheck_version\u001b[49m\u001b[43m(\u001b[49m\u001b[38;5;124;43m\"\u001b[39;49m\u001b[38;5;124;43m5.7\u001b[39;49m\u001b[38;5;124;43m\"\u001b[39;49m\u001b[43m)\u001b[49m\u001b[43m \u001b[49m\u001b[38;5;28;43;01melse\u001b[39;49;00m\u001b[43m \u001b[49m\u001b[43m[\u001b[49m\u001b[43mjavaDocCollection\u001b[49m\u001b[43m]\u001b[49m\u001b[43m)\u001b[49m\n\u001b[0;32m    676\u001b[0m \u001b[38;5;28;01mglobal\u001b[39;00m lastdoc\n\u001b[0;32m    677\u001b[0m lastdoc \u001b[38;5;241m=\u001b[39m \u001b[38;5;28;01mNone\u001b[39;00m\n",
      "File \u001b[1;32mjnius\\\\jnius_export_class.pxi:1163\u001b[0m, in \u001b[0;36mjnius.JavaMultipleMethod.__call__\u001b[1;34m()\u001b[0m\n",
      "File \u001b[1;32mjnius\\\\jnius_export_class.pxi:877\u001b[0m, in \u001b[0;36mjnius.JavaMethod.__call__\u001b[1;34m()\u001b[0m\n",
      "File \u001b[1;32mjnius\\\\jnius_export_class.pxi:971\u001b[0m, in \u001b[0;36mjnius.JavaMethod.call_method\u001b[1;34m()\u001b[0m\n",
      "File \u001b[1;32mjnius\\\\jnius_utils.pxi:69\u001b[0m, in \u001b[0;36mjnius.check_exception\u001b[1;34m()\u001b[0m\n",
      "File \u001b[1;32mjnius\\\\jnius_utils.pxi:100\u001b[0m, in \u001b[0;36mjnius._append_exception_trace_messages\u001b[1;34m()\u001b[0m\n",
      "File \u001b[1;32mjnius\\\\jnius_conversion.pxi:159\u001b[0m, in \u001b[0;36mjnius.convert_jobject_to_python\u001b[1;34m()\u001b[0m\n",
      "File \u001b[1;32mjnius\\\\jnius_proxy.pxi:154\u001b[0m, in \u001b[0;36mjnius.invoke0\u001b[1;34m()\u001b[0m\n",
      "File \u001b[1;32mjnius\\\\jnius_proxy.pxi:82\u001b[0m, in \u001b[0;36mjnius.py_invoke0\u001b[1;34m()\u001b[0m\n",
      "File \u001b[1;32m<frozen importlib._bootstrap>:405\u001b[0m, in \u001b[0;36mparent\u001b[1;34m(self)\u001b[0m\n",
      "\u001b[1;31mKeyboardInterrupt\u001b[0m: "
     ]
    },
    {
     "name": "stderr",
     "output_type": "stream",
     "text": [
      "beir/webis-touche2020 documents:  28%|██▊       | 106265/382545 [04:30<06:45, 681.20it/s]"
     ]
    }
   ],
   "source": [
    "idx_path = Path.cwd() / \"indices\" / \"webis_index\"\n",
    "\n",
    "index = pt.IterDictIndexer(\n",
    "    str(idx_path),\n",
    "        meta={\n",
    "        \"docno\": 39,\n",
    "        \"text\": 131072,\n",
    "    },\n",
    ").index(dataset_webis.get_corpus_iter())"
   ]
  },
  {
   "cell_type": "code",
   "execution_count": null,
   "metadata": {},
   "outputs": [],
   "source": [
    "idx_path = Path.cwd() / \"indices\" / \"msmarco_index\"\n",
    "\n",
    "index = pt.IterDictIndexer(\n",
    "    str(idx_path),\n",
    "        meta={\n",
    "        \"docno\": 39,\n",
    "        \"text\": 131072,\n",
    "    },\n",
    ").index(dataset_msmarco.get_corpus_iter())"
   ]
  },
  {
   "cell_type": "code",
   "execution_count": null,
   "metadata": {},
   "outputs": [],
   "source": [
    "idx_path = Path.cwd() / \"indices\" / \"dbpedia_index\"\n",
    "\n",
    "index = pt.IterDictIndexer(\n",
    "    str(idx_path),\n",
    "        meta={\n",
    "        \"docno\": 39,\n",
    "        \"text\": 131072,\n",
    "    },\n",
    ").index(dataset_dbpedia.get_corpus_iter())"
   ]
  },
  {
   "cell_type": "code",
   "execution_count": null,
   "metadata": {},
   "outputs": [],
   "source": [
    "idx_path = Path.cwd() / \"indices\" / \"trec_robust_index\"\n",
    "\n",
    "index = pt.IterDictIndexer(\n",
    "    str(idx_path),\n",
    "        meta={\n",
    "        \"docno\": 39,\n",
    "        \"text\": 131072,\n",
    "    },\n",
    ").index(dataset_trec_robust.get_corpus_iter())"
   ]
  }
 ],
 "metadata": {
  "kernelspec": {
   "display_name": "IR",
   "language": "python",
   "name": "python3"
  },
  "language_info": {
   "codemirror_mode": {
    "name": "ipython",
    "version": 3
   },
   "file_extension": ".py",
   "mimetype": "text/x-python",
   "name": "python",
   "nbconvert_exporter": "python",
   "pygments_lexer": "ipython3",
   "version": "3.11.0"
  }
 },
 "nbformat": 4,
 "nbformat_minor": 2
}
