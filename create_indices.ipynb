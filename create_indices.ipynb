{
 "cells": [
  {
   "cell_type": "code",
   "metadata": {
    "ExecuteTime": {
     "end_time": "2025-03-25T15:03:05.627938Z",
     "start_time": "2025-03-25T15:03:02.215209Z"
    }
   },
   "source": [
    "import pyterrier as pt\n",
    "from pathlib import Path"
   ],
   "id": "9424946824aed853",
   "outputs": [],
   "execution_count": 1
  },
  {
   "cell_type": "code",
   "metadata": {
    "ExecuteTime": {
     "end_time": "2025-03-25T15:03:05.780435Z",
     "start_time": "2025-03-25T15:03:05.767908Z"
    }
   },
   "source": [
    "#TREC Passage 19\n",
    "dataset_msmarco = pt.datasets.get_dataset(\"irds:msmarco-passage/trec-dl-2019\")\n",
    "\n",
    "#TREC Robust 04\n",
    "dataset_trec_robust = pt.datasets.get_dataset(\"irds:disks45/nocr/trec-robust-2004\")\n",
    "\n",
    "#Webis Touche\n",
    "dataset_webis = pt.datasets.get_dataset(\"irds:beir/webis-touche2020\")\n",
    "\n",
    "#DBPedia Entity\n",
    "dataset_dbpedia = pt.datasets.get_dataset(\"irds:beir/dbpedia-entity\")"
   ],
   "id": "c3a7086338229878",
   "outputs": [],
   "execution_count": 2
  },
  {
   "cell_type": "code",
   "metadata": {
    "ExecuteTime": {
     "end_time": "2025-03-25T15:13:14.541285Z",
     "start_time": "2025-03-25T15:05:22.383424Z"
    }
   },
   "source": [
    "idx_path = Path.cwd() / \"indices\" / \"webis_index\"\n",
    "\n",
    "index = pt.IterDictIndexer(\n",
    "    str(idx_path),\n",
    "        meta={\n",
    "        \"docno\": 39,\n",
    "        \"text\": 131072,\n",
    "    },\n",
    ").index(dataset_webis.get_corpus_iter())"
   ],
   "id": "e86bdd65e9a7f590",
   "outputs": [
    {
     "name": "stderr",
     "output_type": "stream",
     "text": [
      "beir/webis-touche2020 documents:   0%|          | 265/382545 [00:01<18:31, 344.02it/s] "
     ]
    },
    {
     "name": "stdout",
     "output_type": "stream",
     "text": [
      "16:05:24.277 [main] WARN org.terrier.structures.indexing.Indexer -- Adding an empty document to the index (196753f-2019-04-18T11:45:35Z-00007-000) - further warnings are suppressed\r\n"
     ]
    },
    {
     "name": "stderr",
     "output_type": "stream",
     "text": [
      "beir/webis-touche2020 documents: 100%|██████████| 382545/382545 [07:37<00:00, 835.95it/s] \n"
     ]
    },
    {
     "name": "stdout",
     "output_type": "stream",
     "text": [
      "16:13:14.519 [main] WARN org.terrier.structures.indexing.Indexer -- Indexed 1843 empty documents\r\n"
     ]
    }
   ],
   "execution_count": 4
  },
  {
   "cell_type": "code",
   "metadata": {
    "ExecuteTime": {
     "end_time": "2025-03-25T15:04:17.484625Z",
     "start_time": "2025-03-25T15:03:19.848392Z"
    }
   },
   "source": [
    "idx_path = Path.cwd() / \"indices\" / \"msmarco_index\"\n",
    "\n",
    "index = pt.IterDictIndexer(\n",
    "    str(idx_path),\n",
    "        meta={\n",
    "        \"docno\": 39,\n",
    "        \"text\": 131072,\n",
    "    },\n",
    ").index(dataset_msmarco.get_corpus_iter())"
   ],
   "id": "428150990e9fefe2",
   "outputs": [
    {
     "name": "stderr",
     "output_type": "stream",
     "text": [
      "Java started (triggered by TerrierIndexer.__init__) and loaded: pyterrier.java, pyterrier.terrier.java [version=5.11 (build: craig.macdonald 2025-01-13 21:29), helper_version=0.0.8]\n",
      "[INFO] Please confirm you agree to the MSMARCO data usage agreement found at <http://www.msmarco.org/dataset.aspx>\n",
      "[INFO] If you have a local copy of https://msmarco.z22.web.core.windows.net/msmarcoranking/collectionandqueries.tar.gz, you can symlink it here to avoid downloading it again: C:\\Users\\basma\\.ir_datasets\\downloads\\31644046b18952c1386cd4564ba2ae69\n",
      "[INFO] download error: HTTPSConnectionPool(host='msmarco.z22.web.core.windows.net', port=443): Max retries exceeded with url: /msmarcoranking/collectionandqueries.tar.gz (Caused by ConnectTimeoutError(<urllib3.connection.HTTPSConnection object at 0x0000012F51C651F0>, 'Connection to msmarco.z22.web.core.windows.net timed out. (connect timeout=15.0)')). Retrying from start.\n",
      "[INFO] download error: HTTPSConnectionPool(host='msmarco.z22.web.core.windows.net', port=443): Read timed out. (read timeout=15.0). Retrying from start.\n",
      "[WARNING] Download failed: HTTPSConnectionPool(host='msmarco.z22.web.core.windows.net', port=443): Read timed out. (read timeout=15.0)\n",
      "msmarco-passage/trec-dl-2019 documents:   0%|          | 0/8841823 [00:51<?, ?it/s]\n"
     ]
    },
    {
     "ename": "PermissionError",
     "evalue": "[WinError 32] The process cannot access the file because it is being used by another process: 'C:\\\\Users\\\\basma\\\\.ir_datasets\\\\msmarco-passage\\\\collection.tsv.tmp0'",
     "output_type": "error",
     "traceback": [
      "\u001B[1;31m---------------------------------------------------------------------------\u001B[0m",
      "\u001B[1;31mTimeoutError\u001B[0m                              Traceback (most recent call last)",
      "File \u001B[1;32m~\\anaconda3\\Lib\\site-packages\\urllib3\\connectionpool.py:466\u001B[0m, in \u001B[0;36mHTTPConnectionPool._make_request\u001B[1;34m(self, conn, method, url, body, headers, retries, timeout, chunked, response_conn, preload_content, decode_content, enforce_content_length)\u001B[0m\n\u001B[0;32m    465\u001B[0m \u001B[38;5;28;01mtry\u001B[39;00m:\n\u001B[1;32m--> 466\u001B[0m     \u001B[38;5;28mself\u001B[39m\u001B[38;5;241m.\u001B[39m_validate_conn(conn)\n\u001B[0;32m    467\u001B[0m \u001B[38;5;28;01mexcept\u001B[39;00m (SocketTimeout, BaseSSLError) \u001B[38;5;28;01mas\u001B[39;00m e:\n",
      "File \u001B[1;32m~\\anaconda3\\Lib\\site-packages\\urllib3\\connectionpool.py:1095\u001B[0m, in \u001B[0;36mHTTPSConnectionPool._validate_conn\u001B[1;34m(self, conn)\u001B[0m\n\u001B[0;32m   1094\u001B[0m \u001B[38;5;28;01mif\u001B[39;00m conn\u001B[38;5;241m.\u001B[39mis_closed:\n\u001B[1;32m-> 1095\u001B[0m     conn\u001B[38;5;241m.\u001B[39mconnect()\n\u001B[0;32m   1097\u001B[0m \u001B[38;5;66;03m# TODO revise this, see https://github.com/urllib3/urllib3/issues/2791\u001B[39;00m\n",
      "File \u001B[1;32m~\\anaconda3\\Lib\\site-packages\\urllib3\\connection.py:652\u001B[0m, in \u001B[0;36mHTTPSConnection.connect\u001B[1;34m(self)\u001B[0m\n\u001B[0;32m    650\u001B[0m server_hostname_rm_dot \u001B[38;5;241m=\u001B[39m server_hostname\u001B[38;5;241m.\u001B[39mrstrip(\u001B[38;5;124m\"\u001B[39m\u001B[38;5;124m.\u001B[39m\u001B[38;5;124m\"\u001B[39m)\n\u001B[1;32m--> 652\u001B[0m sock_and_verified \u001B[38;5;241m=\u001B[39m _ssl_wrap_socket_and_match_hostname(\n\u001B[0;32m    653\u001B[0m     sock\u001B[38;5;241m=\u001B[39msock,\n\u001B[0;32m    654\u001B[0m     cert_reqs\u001B[38;5;241m=\u001B[39m\u001B[38;5;28mself\u001B[39m\u001B[38;5;241m.\u001B[39mcert_reqs,\n\u001B[0;32m    655\u001B[0m     ssl_version\u001B[38;5;241m=\u001B[39m\u001B[38;5;28mself\u001B[39m\u001B[38;5;241m.\u001B[39mssl_version,\n\u001B[0;32m    656\u001B[0m     ssl_minimum_version\u001B[38;5;241m=\u001B[39m\u001B[38;5;28mself\u001B[39m\u001B[38;5;241m.\u001B[39mssl_minimum_version,\n\u001B[0;32m    657\u001B[0m     ssl_maximum_version\u001B[38;5;241m=\u001B[39m\u001B[38;5;28mself\u001B[39m\u001B[38;5;241m.\u001B[39mssl_maximum_version,\n\u001B[0;32m    658\u001B[0m     ca_certs\u001B[38;5;241m=\u001B[39m\u001B[38;5;28mself\u001B[39m\u001B[38;5;241m.\u001B[39mca_certs,\n\u001B[0;32m    659\u001B[0m     ca_cert_dir\u001B[38;5;241m=\u001B[39m\u001B[38;5;28mself\u001B[39m\u001B[38;5;241m.\u001B[39mca_cert_dir,\n\u001B[0;32m    660\u001B[0m     ca_cert_data\u001B[38;5;241m=\u001B[39m\u001B[38;5;28mself\u001B[39m\u001B[38;5;241m.\u001B[39mca_cert_data,\n\u001B[0;32m    661\u001B[0m     cert_file\u001B[38;5;241m=\u001B[39m\u001B[38;5;28mself\u001B[39m\u001B[38;5;241m.\u001B[39mcert_file,\n\u001B[0;32m    662\u001B[0m     key_file\u001B[38;5;241m=\u001B[39m\u001B[38;5;28mself\u001B[39m\u001B[38;5;241m.\u001B[39mkey_file,\n\u001B[0;32m    663\u001B[0m     key_password\u001B[38;5;241m=\u001B[39m\u001B[38;5;28mself\u001B[39m\u001B[38;5;241m.\u001B[39mkey_password,\n\u001B[0;32m    664\u001B[0m     server_hostname\u001B[38;5;241m=\u001B[39mserver_hostname_rm_dot,\n\u001B[0;32m    665\u001B[0m     ssl_context\u001B[38;5;241m=\u001B[39m\u001B[38;5;28mself\u001B[39m\u001B[38;5;241m.\u001B[39mssl_context,\n\u001B[0;32m    666\u001B[0m     tls_in_tls\u001B[38;5;241m=\u001B[39mtls_in_tls,\n\u001B[0;32m    667\u001B[0m     assert_hostname\u001B[38;5;241m=\u001B[39m\u001B[38;5;28mself\u001B[39m\u001B[38;5;241m.\u001B[39massert_hostname,\n\u001B[0;32m    668\u001B[0m     assert_fingerprint\u001B[38;5;241m=\u001B[39m\u001B[38;5;28mself\u001B[39m\u001B[38;5;241m.\u001B[39massert_fingerprint,\n\u001B[0;32m    669\u001B[0m )\n\u001B[0;32m    670\u001B[0m \u001B[38;5;28mself\u001B[39m\u001B[38;5;241m.\u001B[39msock \u001B[38;5;241m=\u001B[39m sock_and_verified\u001B[38;5;241m.\u001B[39msocket\n",
      "File \u001B[1;32m~\\anaconda3\\Lib\\site-packages\\urllib3\\connection.py:805\u001B[0m, in \u001B[0;36m_ssl_wrap_socket_and_match_hostname\u001B[1;34m(sock, cert_reqs, ssl_version, ssl_minimum_version, ssl_maximum_version, cert_file, key_file, key_password, ca_certs, ca_cert_dir, ca_cert_data, assert_hostname, assert_fingerprint, server_hostname, ssl_context, tls_in_tls)\u001B[0m\n\u001B[0;32m    803\u001B[0m         server_hostname \u001B[38;5;241m=\u001B[39m normalized\n\u001B[1;32m--> 805\u001B[0m ssl_sock \u001B[38;5;241m=\u001B[39m ssl_wrap_socket(\n\u001B[0;32m    806\u001B[0m     sock\u001B[38;5;241m=\u001B[39msock,\n\u001B[0;32m    807\u001B[0m     keyfile\u001B[38;5;241m=\u001B[39mkey_file,\n\u001B[0;32m    808\u001B[0m     certfile\u001B[38;5;241m=\u001B[39mcert_file,\n\u001B[0;32m    809\u001B[0m     key_password\u001B[38;5;241m=\u001B[39mkey_password,\n\u001B[0;32m    810\u001B[0m     ca_certs\u001B[38;5;241m=\u001B[39mca_certs,\n\u001B[0;32m    811\u001B[0m     ca_cert_dir\u001B[38;5;241m=\u001B[39mca_cert_dir,\n\u001B[0;32m    812\u001B[0m     ca_cert_data\u001B[38;5;241m=\u001B[39mca_cert_data,\n\u001B[0;32m    813\u001B[0m     server_hostname\u001B[38;5;241m=\u001B[39mserver_hostname,\n\u001B[0;32m    814\u001B[0m     ssl_context\u001B[38;5;241m=\u001B[39mcontext,\n\u001B[0;32m    815\u001B[0m     tls_in_tls\u001B[38;5;241m=\u001B[39mtls_in_tls,\n\u001B[0;32m    816\u001B[0m )\n\u001B[0;32m    818\u001B[0m \u001B[38;5;28;01mtry\u001B[39;00m:\n",
      "File \u001B[1;32m~\\anaconda3\\Lib\\site-packages\\urllib3\\util\\ssl_.py:465\u001B[0m, in \u001B[0;36mssl_wrap_socket\u001B[1;34m(sock, keyfile, certfile, cert_reqs, ca_certs, server_hostname, ssl_version, ciphers, ssl_context, ca_cert_dir, key_password, ca_cert_data, tls_in_tls)\u001B[0m\n\u001B[0;32m    463\u001B[0m     \u001B[38;5;28;01mpass\u001B[39;00m\n\u001B[1;32m--> 465\u001B[0m ssl_sock \u001B[38;5;241m=\u001B[39m _ssl_wrap_socket_impl(sock, context, tls_in_tls, server_hostname)\n\u001B[0;32m    466\u001B[0m \u001B[38;5;28;01mreturn\u001B[39;00m ssl_sock\n",
      "File \u001B[1;32m~\\anaconda3\\Lib\\site-packages\\urllib3\\util\\ssl_.py:509\u001B[0m, in \u001B[0;36m_ssl_wrap_socket_impl\u001B[1;34m(sock, ssl_context, tls_in_tls, server_hostname)\u001B[0m\n\u001B[0;32m    507\u001B[0m     \u001B[38;5;28;01mreturn\u001B[39;00m SSLTransport(sock, ssl_context, server_hostname)\n\u001B[1;32m--> 509\u001B[0m \u001B[38;5;28;01mreturn\u001B[39;00m ssl_context\u001B[38;5;241m.\u001B[39mwrap_socket(sock, server_hostname\u001B[38;5;241m=\u001B[39mserver_hostname)\n",
      "File \u001B[1;32m~\\anaconda3\\Lib\\ssl.py:455\u001B[0m, in \u001B[0;36mSSLContext.wrap_socket\u001B[1;34m(self, sock, server_side, do_handshake_on_connect, suppress_ragged_eofs, server_hostname, session)\u001B[0m\n\u001B[0;32m    449\u001B[0m \u001B[38;5;28;01mdef\u001B[39;00m \u001B[38;5;21mwrap_socket\u001B[39m(\u001B[38;5;28mself\u001B[39m, sock, server_side\u001B[38;5;241m=\u001B[39m\u001B[38;5;28;01mFalse\u001B[39;00m,\n\u001B[0;32m    450\u001B[0m                 do_handshake_on_connect\u001B[38;5;241m=\u001B[39m\u001B[38;5;28;01mTrue\u001B[39;00m,\n\u001B[0;32m    451\u001B[0m                 suppress_ragged_eofs\u001B[38;5;241m=\u001B[39m\u001B[38;5;28;01mTrue\u001B[39;00m,\n\u001B[0;32m    452\u001B[0m                 server_hostname\u001B[38;5;241m=\u001B[39m\u001B[38;5;28;01mNone\u001B[39;00m, session\u001B[38;5;241m=\u001B[39m\u001B[38;5;28;01mNone\u001B[39;00m):\n\u001B[0;32m    453\u001B[0m     \u001B[38;5;66;03m# SSLSocket class handles server_hostname encoding before it calls\u001B[39;00m\n\u001B[0;32m    454\u001B[0m     \u001B[38;5;66;03m# ctx._wrap_socket()\u001B[39;00m\n\u001B[1;32m--> 455\u001B[0m     \u001B[38;5;28;01mreturn\u001B[39;00m \u001B[38;5;28mself\u001B[39m\u001B[38;5;241m.\u001B[39msslsocket_class\u001B[38;5;241m.\u001B[39m_create(\n\u001B[0;32m    456\u001B[0m         sock\u001B[38;5;241m=\u001B[39msock,\n\u001B[0;32m    457\u001B[0m         server_side\u001B[38;5;241m=\u001B[39mserver_side,\n\u001B[0;32m    458\u001B[0m         do_handshake_on_connect\u001B[38;5;241m=\u001B[39mdo_handshake_on_connect,\n\u001B[0;32m    459\u001B[0m         suppress_ragged_eofs\u001B[38;5;241m=\u001B[39msuppress_ragged_eofs,\n\u001B[0;32m    460\u001B[0m         server_hostname\u001B[38;5;241m=\u001B[39mserver_hostname,\n\u001B[0;32m    461\u001B[0m         context\u001B[38;5;241m=\u001B[39m\u001B[38;5;28mself\u001B[39m,\n\u001B[0;32m    462\u001B[0m         session\u001B[38;5;241m=\u001B[39msession\n\u001B[0;32m    463\u001B[0m     )\n",
      "File \u001B[1;32m~\\anaconda3\\Lib\\ssl.py:1042\u001B[0m, in \u001B[0;36mSSLSocket._create\u001B[1;34m(cls, sock, server_side, do_handshake_on_connect, suppress_ragged_eofs, server_hostname, context, session)\u001B[0m\n\u001B[0;32m   1041\u001B[0m                 \u001B[38;5;28;01mraise\u001B[39;00m \u001B[38;5;167;01mValueError\u001B[39;00m(\u001B[38;5;124m\"\u001B[39m\u001B[38;5;124mdo_handshake_on_connect should not be specified for non-blocking sockets\u001B[39m\u001B[38;5;124m\"\u001B[39m)\n\u001B[1;32m-> 1042\u001B[0m             \u001B[38;5;28mself\u001B[39m\u001B[38;5;241m.\u001B[39mdo_handshake()\n\u001B[0;32m   1043\u001B[0m \u001B[38;5;28;01mexcept\u001B[39;00m:\n",
      "File \u001B[1;32m~\\anaconda3\\Lib\\ssl.py:1320\u001B[0m, in \u001B[0;36mSSLSocket.do_handshake\u001B[1;34m(self, block)\u001B[0m\n\u001B[0;32m   1319\u001B[0m         \u001B[38;5;28mself\u001B[39m\u001B[38;5;241m.\u001B[39msettimeout(\u001B[38;5;28;01mNone\u001B[39;00m)\n\u001B[1;32m-> 1320\u001B[0m     \u001B[38;5;28mself\u001B[39m\u001B[38;5;241m.\u001B[39m_sslobj\u001B[38;5;241m.\u001B[39mdo_handshake()\n\u001B[0;32m   1321\u001B[0m \u001B[38;5;28;01mfinally\u001B[39;00m:\n",
      "\u001B[1;31mTimeoutError\u001B[0m: _ssl.c:983: The handshake operation timed out",
      "\nThe above exception was the direct cause of the following exception:\n",
      "\u001B[1;31mReadTimeoutError\u001B[0m                          Traceback (most recent call last)",
      "File \u001B[1;32m~\\anaconda3\\Lib\\site-packages\\requests\\adapters.py:589\u001B[0m, in \u001B[0;36mHTTPAdapter.send\u001B[1;34m(self, request, stream, timeout, verify, cert, proxies)\u001B[0m\n\u001B[0;32m    588\u001B[0m \u001B[38;5;28;01mtry\u001B[39;00m:\n\u001B[1;32m--> 589\u001B[0m     resp \u001B[38;5;241m=\u001B[39m conn\u001B[38;5;241m.\u001B[39murlopen(\n\u001B[0;32m    590\u001B[0m         method\u001B[38;5;241m=\u001B[39mrequest\u001B[38;5;241m.\u001B[39mmethod,\n\u001B[0;32m    591\u001B[0m         url\u001B[38;5;241m=\u001B[39murl,\n\u001B[0;32m    592\u001B[0m         body\u001B[38;5;241m=\u001B[39mrequest\u001B[38;5;241m.\u001B[39mbody,\n\u001B[0;32m    593\u001B[0m         headers\u001B[38;5;241m=\u001B[39mrequest\u001B[38;5;241m.\u001B[39mheaders,\n\u001B[0;32m    594\u001B[0m         redirect\u001B[38;5;241m=\u001B[39m\u001B[38;5;28;01mFalse\u001B[39;00m,\n\u001B[0;32m    595\u001B[0m         assert_same_host\u001B[38;5;241m=\u001B[39m\u001B[38;5;28;01mFalse\u001B[39;00m,\n\u001B[0;32m    596\u001B[0m         preload_content\u001B[38;5;241m=\u001B[39m\u001B[38;5;28;01mFalse\u001B[39;00m,\n\u001B[0;32m    597\u001B[0m         decode_content\u001B[38;5;241m=\u001B[39m\u001B[38;5;28;01mFalse\u001B[39;00m,\n\u001B[0;32m    598\u001B[0m         retries\u001B[38;5;241m=\u001B[39m\u001B[38;5;28mself\u001B[39m\u001B[38;5;241m.\u001B[39mmax_retries,\n\u001B[0;32m    599\u001B[0m         timeout\u001B[38;5;241m=\u001B[39mtimeout,\n\u001B[0;32m    600\u001B[0m         chunked\u001B[38;5;241m=\u001B[39mchunked,\n\u001B[0;32m    601\u001B[0m     )\n\u001B[0;32m    603\u001B[0m \u001B[38;5;28;01mexcept\u001B[39;00m (ProtocolError, \u001B[38;5;167;01mOSError\u001B[39;00m) \u001B[38;5;28;01mas\u001B[39;00m err:\n",
      "File \u001B[1;32m~\\anaconda3\\Lib\\site-packages\\urllib3\\connectionpool.py:843\u001B[0m, in \u001B[0;36mHTTPConnectionPool.urlopen\u001B[1;34m(self, method, url, body, headers, retries, redirect, assert_same_host, timeout, pool_timeout, release_conn, chunked, body_pos, preload_content, decode_content, **response_kw)\u001B[0m\n\u001B[0;32m    841\u001B[0m     new_e \u001B[38;5;241m=\u001B[39m ProtocolError(\u001B[38;5;124m\"\u001B[39m\u001B[38;5;124mConnection aborted.\u001B[39m\u001B[38;5;124m\"\u001B[39m, new_e)\n\u001B[1;32m--> 843\u001B[0m retries \u001B[38;5;241m=\u001B[39m retries\u001B[38;5;241m.\u001B[39mincrement(\n\u001B[0;32m    844\u001B[0m     method, url, error\u001B[38;5;241m=\u001B[39mnew_e, _pool\u001B[38;5;241m=\u001B[39m\u001B[38;5;28mself\u001B[39m, _stacktrace\u001B[38;5;241m=\u001B[39msys\u001B[38;5;241m.\u001B[39mexc_info()[\u001B[38;5;241m2\u001B[39m]\n\u001B[0;32m    845\u001B[0m )\n\u001B[0;32m    846\u001B[0m retries\u001B[38;5;241m.\u001B[39msleep()\n",
      "File \u001B[1;32m~\\anaconda3\\Lib\\site-packages\\urllib3\\util\\retry.py:474\u001B[0m, in \u001B[0;36mRetry.increment\u001B[1;34m(self, method, url, response, error, _pool, _stacktrace)\u001B[0m\n\u001B[0;32m    473\u001B[0m \u001B[38;5;28;01mif\u001B[39;00m read \u001B[38;5;129;01mis\u001B[39;00m \u001B[38;5;28;01mFalse\u001B[39;00m \u001B[38;5;129;01mor\u001B[39;00m method \u001B[38;5;129;01mis\u001B[39;00m \u001B[38;5;28;01mNone\u001B[39;00m \u001B[38;5;129;01mor\u001B[39;00m \u001B[38;5;129;01mnot\u001B[39;00m \u001B[38;5;28mself\u001B[39m\u001B[38;5;241m.\u001B[39m_is_method_retryable(method):\n\u001B[1;32m--> 474\u001B[0m     \u001B[38;5;28;01mraise\u001B[39;00m reraise(\u001B[38;5;28mtype\u001B[39m(error), error, _stacktrace)\n\u001B[0;32m    475\u001B[0m \u001B[38;5;28;01melif\u001B[39;00m read \u001B[38;5;129;01mis\u001B[39;00m \u001B[38;5;129;01mnot\u001B[39;00m \u001B[38;5;28;01mNone\u001B[39;00m:\n",
      "File \u001B[1;32m~\\anaconda3\\Lib\\site-packages\\urllib3\\util\\util.py:39\u001B[0m, in \u001B[0;36mreraise\u001B[1;34m(tp, value, tb)\u001B[0m\n\u001B[0;32m     38\u001B[0m         \u001B[38;5;28;01mraise\u001B[39;00m value\u001B[38;5;241m.\u001B[39mwith_traceback(tb)\n\u001B[1;32m---> 39\u001B[0m     \u001B[38;5;28;01mraise\u001B[39;00m value\n\u001B[0;32m     40\u001B[0m \u001B[38;5;28;01mfinally\u001B[39;00m:\n",
      "File \u001B[1;32m~\\anaconda3\\Lib\\site-packages\\urllib3\\connectionpool.py:789\u001B[0m, in \u001B[0;36mHTTPConnectionPool.urlopen\u001B[1;34m(self, method, url, body, headers, retries, redirect, assert_same_host, timeout, pool_timeout, release_conn, chunked, body_pos, preload_content, decode_content, **response_kw)\u001B[0m\n\u001B[0;32m    788\u001B[0m \u001B[38;5;66;03m# Make the request on the HTTPConnection object\u001B[39;00m\n\u001B[1;32m--> 789\u001B[0m response \u001B[38;5;241m=\u001B[39m \u001B[38;5;28mself\u001B[39m\u001B[38;5;241m.\u001B[39m_make_request(\n\u001B[0;32m    790\u001B[0m     conn,\n\u001B[0;32m    791\u001B[0m     method,\n\u001B[0;32m    792\u001B[0m     url,\n\u001B[0;32m    793\u001B[0m     timeout\u001B[38;5;241m=\u001B[39mtimeout_obj,\n\u001B[0;32m    794\u001B[0m     body\u001B[38;5;241m=\u001B[39mbody,\n\u001B[0;32m    795\u001B[0m     headers\u001B[38;5;241m=\u001B[39mheaders,\n\u001B[0;32m    796\u001B[0m     chunked\u001B[38;5;241m=\u001B[39mchunked,\n\u001B[0;32m    797\u001B[0m     retries\u001B[38;5;241m=\u001B[39mretries,\n\u001B[0;32m    798\u001B[0m     response_conn\u001B[38;5;241m=\u001B[39mresponse_conn,\n\u001B[0;32m    799\u001B[0m     preload_content\u001B[38;5;241m=\u001B[39mpreload_content,\n\u001B[0;32m    800\u001B[0m     decode_content\u001B[38;5;241m=\u001B[39mdecode_content,\n\u001B[0;32m    801\u001B[0m     \u001B[38;5;241m*\u001B[39m\u001B[38;5;241m*\u001B[39mresponse_kw,\n\u001B[0;32m    802\u001B[0m )\n\u001B[0;32m    804\u001B[0m \u001B[38;5;66;03m# Everything went great!\u001B[39;00m\n",
      "File \u001B[1;32m~\\anaconda3\\Lib\\site-packages\\urllib3\\connectionpool.py:490\u001B[0m, in \u001B[0;36mHTTPConnectionPool._make_request\u001B[1;34m(self, conn, method, url, body, headers, retries, timeout, chunked, response_conn, preload_content, decode_content, enforce_content_length)\u001B[0m\n\u001B[0;32m    489\u001B[0m         new_e \u001B[38;5;241m=\u001B[39m _wrap_proxy_error(new_e, conn\u001B[38;5;241m.\u001B[39mproxy\u001B[38;5;241m.\u001B[39mscheme)\n\u001B[1;32m--> 490\u001B[0m     \u001B[38;5;28;01mraise\u001B[39;00m new_e\n\u001B[0;32m    492\u001B[0m \u001B[38;5;66;03m# conn.request() calls http.client.*.request, not the method in\u001B[39;00m\n\u001B[0;32m    493\u001B[0m \u001B[38;5;66;03m# urllib3.request. It also calls makefile (recv) on the socket.\u001B[39;00m\n",
      "File \u001B[1;32m~\\anaconda3\\Lib\\site-packages\\urllib3\\connectionpool.py:468\u001B[0m, in \u001B[0;36mHTTPConnectionPool._make_request\u001B[1;34m(self, conn, method, url, body, headers, retries, timeout, chunked, response_conn, preload_content, decode_content, enforce_content_length)\u001B[0m\n\u001B[0;32m    467\u001B[0m \u001B[38;5;28;01mexcept\u001B[39;00m (SocketTimeout, BaseSSLError) \u001B[38;5;28;01mas\u001B[39;00m e:\n\u001B[1;32m--> 468\u001B[0m     \u001B[38;5;28mself\u001B[39m\u001B[38;5;241m.\u001B[39m_raise_timeout(err\u001B[38;5;241m=\u001B[39me, url\u001B[38;5;241m=\u001B[39murl, timeout_value\u001B[38;5;241m=\u001B[39mconn\u001B[38;5;241m.\u001B[39mtimeout)\n\u001B[0;32m    469\u001B[0m     \u001B[38;5;28;01mraise\u001B[39;00m\n",
      "File \u001B[1;32m~\\anaconda3\\Lib\\site-packages\\urllib3\\connectionpool.py:369\u001B[0m, in \u001B[0;36mHTTPConnectionPool._raise_timeout\u001B[1;34m(self, err, url, timeout_value)\u001B[0m\n\u001B[0;32m    368\u001B[0m \u001B[38;5;28;01mif\u001B[39;00m \u001B[38;5;28misinstance\u001B[39m(err, SocketTimeout):\n\u001B[1;32m--> 369\u001B[0m     \u001B[38;5;28;01mraise\u001B[39;00m ReadTimeoutError(\n\u001B[0;32m    370\u001B[0m         \u001B[38;5;28mself\u001B[39m, url, \u001B[38;5;124mf\u001B[39m\u001B[38;5;124m\"\u001B[39m\u001B[38;5;124mRead timed out. (read timeout=\u001B[39m\u001B[38;5;132;01m{\u001B[39;00mtimeout_value\u001B[38;5;132;01m}\u001B[39;00m\u001B[38;5;124m)\u001B[39m\u001B[38;5;124m\"\u001B[39m\n\u001B[0;32m    371\u001B[0m     ) \u001B[38;5;28;01mfrom\u001B[39;00m \u001B[38;5;21;01merr\u001B[39;00m\n\u001B[0;32m    373\u001B[0m \u001B[38;5;66;03m# See the above comment about EAGAIN in Python 3.\u001B[39;00m\n",
      "\u001B[1;31mReadTimeoutError\u001B[0m: HTTPSConnectionPool(host='msmarco.z22.web.core.windows.net', port=443): Read timed out. (read timeout=15.0)",
      "\nDuring handling of the above exception, another exception occurred:\n",
      "\u001B[1;31mReadTimeout\u001B[0m                               Traceback (most recent call last)",
      "File \u001B[1;32m~\\anaconda3\\Lib\\site-packages\\ir_datasets\\util\\fileio.py:69\u001B[0m, in \u001B[0;36mCache.verify\u001B[1;34m(self)\u001B[0m\n\u001B[0;32m     68\u001B[0m \u001B[38;5;28;01mwith\u001B[39;00m \u001B[38;5;28mself\u001B[39m\u001B[38;5;241m.\u001B[39m_streamer\u001B[38;5;241m.\u001B[39mstream() \u001B[38;5;28;01mas\u001B[39;00m stream:\n\u001B[1;32m---> 69\u001B[0m     shutil\u001B[38;5;241m.\u001B[39mcopyfileobj(stream, f)\n\u001B[0;32m     70\u001B[0m f\u001B[38;5;241m.\u001B[39mclose() \u001B[38;5;66;03m# close file before move... Needed because of Windows\u001B[39;00m\n",
      "File \u001B[1;32m~\\anaconda3\\Lib\\shutil.py:203\u001B[0m, in \u001B[0;36mcopyfileobj\u001B[1;34m(fsrc, fdst, length)\u001B[0m\n\u001B[0;32m    202\u001B[0m fdst_write \u001B[38;5;241m=\u001B[39m fdst\u001B[38;5;241m.\u001B[39mwrite\n\u001B[1;32m--> 203\u001B[0m \u001B[38;5;28;01mwhile\u001B[39;00m buf \u001B[38;5;241m:=\u001B[39m fsrc_read(length):\n\u001B[0;32m    204\u001B[0m     fdst_write(buf)\n",
      "File \u001B[1;32m~\\anaconda3\\Lib\\site-packages\\ir_datasets\\util\\fileio.py:35\u001B[0m, in \u001B[0;36mIterStream.readinto\u001B[1;34m(self, b)\u001B[0m\n\u001B[0;32m     34\u001B[0m l \u001B[38;5;241m=\u001B[39m \u001B[38;5;28mlen\u001B[39m(b) \u001B[38;5;241m-\u001B[39m pos  \u001B[38;5;66;03m# We're supposed to return at most this much\u001B[39;00m\n\u001B[1;32m---> 35\u001B[0m chunk \u001B[38;5;241m=\u001B[39m \u001B[38;5;28mself\u001B[39m\u001B[38;5;241m.\u001B[39mleftover \u001B[38;5;129;01mor\u001B[39;00m \u001B[38;5;28mnext\u001B[39m(\u001B[38;5;28mself\u001B[39m\u001B[38;5;241m.\u001B[39mit)\n\u001B[0;32m     36\u001B[0m output, \u001B[38;5;28mself\u001B[39m\u001B[38;5;241m.\u001B[39mleftover \u001B[38;5;241m=\u001B[39m chunk[:l], chunk[l:]\n",
      "File \u001B[1;32m~\\anaconda3\\Lib\\site-packages\\ir_datasets\\datasets\\msmarco_passage.py:81\u001B[0m, in \u001B[0;36mFixEncoding.__iter__\u001B[1;34m(self)\u001B[0m\n\u001B[0;32m     76\u001B[0m regexes \u001B[38;5;241m=\u001B[39m [\n\u001B[0;32m     77\u001B[0m     re\u001B[38;5;241m.\u001B[39mcompile(\u001B[38;5;124mf\u001B[39m\u001B[38;5;124m'\u001B[39m\u001B[38;5;124m(...\u001B[39m\u001B[38;5;132;01m{\u001B[39;00mSUS\u001B[38;5;132;01m}\u001B[39;00m\u001B[38;5;124m|..\u001B[39m\u001B[38;5;132;01m{\u001B[39;00mSUS\u001B[38;5;132;01m}\u001B[39;00m\u001B[38;5;124m.|.\u001B[39m\u001B[38;5;132;01m{\u001B[39;00mSUS\u001B[38;5;132;01m}\u001B[39;00m\u001B[38;5;124m..|\u001B[39m\u001B[38;5;132;01m{\u001B[39;00mSUS\u001B[38;5;132;01m}\u001B[39;00m\u001B[38;5;124m...)\u001B[39m\u001B[38;5;124m'\u001B[39m),\n\u001B[0;32m     78\u001B[0m     re\u001B[38;5;241m.\u001B[39mcompile(\u001B[38;5;124mf\u001B[39m\u001B[38;5;124m'\u001B[39m\u001B[38;5;124m(..\u001B[39m\u001B[38;5;132;01m{\u001B[39;00mSUS\u001B[38;5;132;01m}\u001B[39;00m\u001B[38;5;124m|.\u001B[39m\u001B[38;5;132;01m{\u001B[39;00mSUS\u001B[38;5;132;01m}\u001B[39;00m\u001B[38;5;124m.|\u001B[39m\u001B[38;5;132;01m{\u001B[39;00mSUS\u001B[38;5;132;01m}\u001B[39;00m\u001B[38;5;124m..)\u001B[39m\u001B[38;5;124m'\u001B[39m),\n\u001B[0;32m     79\u001B[0m     re\u001B[38;5;241m.\u001B[39mcompile(\u001B[38;5;124mf\u001B[39m\u001B[38;5;124m'\u001B[39m\u001B[38;5;124m(.\u001B[39m\u001B[38;5;132;01m{\u001B[39;00mSUS\u001B[38;5;132;01m}\u001B[39;00m\u001B[38;5;124m|\u001B[39m\u001B[38;5;132;01m{\u001B[39;00mSUS\u001B[38;5;132;01m}\u001B[39;00m\u001B[38;5;124m.)\u001B[39m\u001B[38;5;124m'\u001B[39m),\n\u001B[0;32m     80\u001B[0m ]\n\u001B[1;32m---> 81\u001B[0m \u001B[38;5;28;01mwith\u001B[39;00m \u001B[38;5;28mself\u001B[39m\u001B[38;5;241m.\u001B[39m_streamer\u001B[38;5;241m.\u001B[39mstream() \u001B[38;5;28;01mas\u001B[39;00m stream, \\\n\u001B[0;32m     82\u001B[0m      _logger\u001B[38;5;241m.\u001B[39mpbar_raw(desc\u001B[38;5;241m=\u001B[39m\u001B[38;5;124m'\u001B[39m\u001B[38;5;124mfixing encoding\u001B[39m\u001B[38;5;124m'\u001B[39m, unit\u001B[38;5;241m=\u001B[39m\u001B[38;5;124m'\u001B[39m\u001B[38;5;124mB\u001B[39m\u001B[38;5;124m'\u001B[39m, unit_scale\u001B[38;5;241m=\u001B[39m\u001B[38;5;28;01mTrue\u001B[39;00m) \u001B[38;5;28;01mas\u001B[39;00m pbar:\n\u001B[0;32m     83\u001B[0m      \u001B[38;5;66;03m# NOTE: codecs.getreader is subtly broken here; it sometimes splits lines between special characters (and it's unclear why)\u001B[39;00m\n\u001B[0;32m     84\u001B[0m     \u001B[38;5;28;01mfor\u001B[39;00m line \u001B[38;5;129;01min\u001B[39;00m stream:\n",
      "File \u001B[1;32m~\\anaconda3\\Lib\\contextlib.py:137\u001B[0m, in \u001B[0;36m_GeneratorContextManager.__enter__\u001B[1;34m(self)\u001B[0m\n\u001B[0;32m    136\u001B[0m \u001B[38;5;28;01mtry\u001B[39;00m:\n\u001B[1;32m--> 137\u001B[0m     \u001B[38;5;28;01mreturn\u001B[39;00m \u001B[38;5;28mnext\u001B[39m(\u001B[38;5;28mself\u001B[39m\u001B[38;5;241m.\u001B[39mgen)\n\u001B[0;32m    138\u001B[0m \u001B[38;5;28;01mexcept\u001B[39;00m \u001B[38;5;167;01mStopIteration\u001B[39;00m:\n",
      "File \u001B[1;32m~\\anaconda3\\Lib\\site-packages\\ir_datasets\\util\\fileio.py:96\u001B[0m, in \u001B[0;36mTarExtract.stream\u001B[1;34m(self)\u001B[0m\n\u001B[0;32m     94\u001B[0m \u001B[38;5;129m@contextlib\u001B[39m\u001B[38;5;241m.\u001B[39mcontextmanager\n\u001B[0;32m     95\u001B[0m \u001B[38;5;28;01mdef\u001B[39;00m \u001B[38;5;21mstream\u001B[39m(\u001B[38;5;28mself\u001B[39m):\n\u001B[1;32m---> 96\u001B[0m     \u001B[38;5;28;01mwith\u001B[39;00m contextlib\u001B[38;5;241m.\u001B[39mExitStack() \u001B[38;5;28;01mas\u001B[39;00m ctxt, \u001B[38;5;28mself\u001B[39m\u001B[38;5;241m.\u001B[39m_streamer\u001B[38;5;241m.\u001B[39mstream() \u001B[38;5;28;01mas\u001B[39;00m stream:\n\u001B[0;32m     97\u001B[0m         \u001B[38;5;66;03m# IMPORTANT: open this file in streaming mode (| in mode). This means that the\u001B[39;00m\n\u001B[0;32m     98\u001B[0m         \u001B[38;5;66;03m# content need not be written to disk or be fully read.\u001B[39;00m\n\u001B[0;32m     99\u001B[0m         tarf \u001B[38;5;241m=\u001B[39m ctxt\u001B[38;5;241m.\u001B[39menter_context(tarfile\u001B[38;5;241m.\u001B[39mopen(fileobj\u001B[38;5;241m=\u001B[39mstream, mode\u001B[38;5;241m=\u001B[39m\u001B[38;5;124mf\u001B[39m\u001B[38;5;124m'\u001B[39m\u001B[38;5;124mr|\u001B[39m\u001B[38;5;132;01m{\u001B[39;00m\u001B[38;5;28mself\u001B[39m\u001B[38;5;241m.\u001B[39m_compression\u001B[38;5;250m \u001B[39m\u001B[38;5;129;01mor\u001B[39;00m\u001B[38;5;250m \u001B[39m\u001B[38;5;124m\"\u001B[39m\u001B[38;5;124m\"\u001B[39m\u001B[38;5;132;01m}\u001B[39;00m\u001B[38;5;124m'\u001B[39m))\n",
      "File \u001B[1;32m~\\anaconda3\\Lib\\contextlib.py:137\u001B[0m, in \u001B[0;36m_GeneratorContextManager.__enter__\u001B[1;34m(self)\u001B[0m\n\u001B[0;32m    136\u001B[0m \u001B[38;5;28;01mtry\u001B[39;00m:\n\u001B[1;32m--> 137\u001B[0m     \u001B[38;5;28;01mreturn\u001B[39;00m \u001B[38;5;28mnext\u001B[39m(\u001B[38;5;28mself\u001B[39m\u001B[38;5;241m.\u001B[39mgen)\n\u001B[0;32m    138\u001B[0m \u001B[38;5;28;01mexcept\u001B[39;00m \u001B[38;5;167;01mStopIteration\u001B[39;00m:\n",
      "File \u001B[1;32m~\\anaconda3\\Lib\\site-packages\\ir_datasets\\util\\download.py:290\u001B[0m, in \u001B[0;36mDownload.stream\u001B[1;34m(self)\u001B[0m\n\u001B[0;32m    289\u001B[0m \u001B[38;5;28;01melse\u001B[39;00m:\n\u001B[1;32m--> 290\u001B[0m     \u001B[38;5;28;01mwith\u001B[39;00m \u001B[38;5;28mopen\u001B[39m(\u001B[38;5;28mself\u001B[39m\u001B[38;5;241m.\u001B[39mpath(), \u001B[38;5;124m'\u001B[39m\u001B[38;5;124mrb\u001B[39m\u001B[38;5;124m'\u001B[39m) \u001B[38;5;28;01mas\u001B[39;00m f:\n\u001B[0;32m    291\u001B[0m         \u001B[38;5;28;01myield\u001B[39;00m f\n",
      "File \u001B[1;32m~\\anaconda3\\Lib\\site-packages\\ir_datasets\\util\\download.py:277\u001B[0m, in \u001B[0;36mDownload.path\u001B[1;34m(self, force)\u001B[0m\n\u001B[0;32m    276\u001B[0m \u001B[38;5;28;01mif\u001B[39;00m \u001B[38;5;28mlen\u001B[39m(\u001B[38;5;28mself\u001B[39m\u001B[38;5;241m.\u001B[39mmirrors) \u001B[38;5;241m==\u001B[39m \u001B[38;5;241m2\u001B[39m \u001B[38;5;129;01mand\u001B[39;00m \u001B[38;5;28misinstance\u001B[39m(\u001B[38;5;28mself\u001B[39m\u001B[38;5;241m.\u001B[39mmirrors[\u001B[38;5;241m0\u001B[39m], LocalDownload):\n\u001B[1;32m--> 277\u001B[0m     \u001B[38;5;28;01mraise\u001B[39;00m errors[\u001B[38;5;241m1\u001B[39m][\u001B[38;5;241m1\u001B[39m]\n\u001B[0;32m    278\u001B[0m \u001B[38;5;28;01mraise\u001B[39;00m \u001B[38;5;167;01mRuntimeError\u001B[39;00m(\u001B[38;5;124m'\u001B[39m\u001B[38;5;124mAll download sources failed\u001B[39m\u001B[38;5;124m'\u001B[39m, errors)\n",
      "File \u001B[1;32m~\\anaconda3\\Lib\\site-packages\\ir_datasets\\util\\download.py:267\u001B[0m, in \u001B[0;36mDownload.path\u001B[1;34m(self, force)\u001B[0m\n\u001B[0;32m    266\u001B[0m stream \u001B[38;5;241m=\u001B[39m util\u001B[38;5;241m.\u001B[39mHashStream(stream, \u001B[38;5;28mself\u001B[39m\u001B[38;5;241m.\u001B[39mexpected_md5, algo\u001B[38;5;241m=\u001B[39m\u001B[38;5;124m'\u001B[39m\u001B[38;5;124mmd5\u001B[39m\u001B[38;5;124m'\u001B[39m)\n\u001B[1;32m--> 267\u001B[0m shutil\u001B[38;5;241m.\u001B[39mcopyfileobj(stream, f)\n\u001B[0;32m    268\u001B[0m \u001B[38;5;28;01mbreak\u001B[39;00m\n",
      "File \u001B[1;32m~\\anaconda3\\Lib\\shutil.py:203\u001B[0m, in \u001B[0;36mcopyfileobj\u001B[1;34m(fsrc, fdst, length)\u001B[0m\n\u001B[0;32m    202\u001B[0m fdst_write \u001B[38;5;241m=\u001B[39m fdst\u001B[38;5;241m.\u001B[39mwrite\n\u001B[1;32m--> 203\u001B[0m \u001B[38;5;28;01mwhile\u001B[39;00m buf \u001B[38;5;241m:=\u001B[39m fsrc_read(length):\n\u001B[0;32m    204\u001B[0m     fdst_write(buf)\n",
      "File \u001B[1;32m~\\anaconda3\\Lib\\site-packages\\ir_datasets\\util\\hash.py:48\u001B[0m, in \u001B[0;36mHashStream.readinto\u001B[1;34m(self, b)\u001B[0m\n\u001B[0;32m     47\u001B[0m \u001B[38;5;28;01mdef\u001B[39;00m \u001B[38;5;21mreadinto\u001B[39m(\u001B[38;5;28mself\u001B[39m, b):\n\u001B[1;32m---> 48\u001B[0m     count \u001B[38;5;241m=\u001B[39m \u001B[38;5;28mself\u001B[39m\u001B[38;5;241m.\u001B[39m_stream\u001B[38;5;241m.\u001B[39mreadinto(b)\n\u001B[0;32m     49\u001B[0m     \u001B[38;5;28mself\u001B[39m\u001B[38;5;241m.\u001B[39m_verifier\u001B[38;5;241m.\u001B[39mupdate(b[:count])\n",
      "File \u001B[1;32m~\\anaconda3\\Lib\\site-packages\\ir_datasets\\util\\fileio.py:35\u001B[0m, in \u001B[0;36mIterStream.readinto\u001B[1;34m(self, b)\u001B[0m\n\u001B[0;32m     34\u001B[0m l \u001B[38;5;241m=\u001B[39m \u001B[38;5;28mlen\u001B[39m(b) \u001B[38;5;241m-\u001B[39m pos  \u001B[38;5;66;03m# We're supposed to return at most this much\u001B[39;00m\n\u001B[1;32m---> 35\u001B[0m chunk \u001B[38;5;241m=\u001B[39m \u001B[38;5;28mself\u001B[39m\u001B[38;5;241m.\u001B[39mleftover \u001B[38;5;129;01mor\u001B[39;00m \u001B[38;5;28mnext\u001B[39m(\u001B[38;5;28mself\u001B[39m\u001B[38;5;241m.\u001B[39mit)\n\u001B[0;32m     36\u001B[0m output, \u001B[38;5;28mself\u001B[39m\u001B[38;5;241m.\u001B[39mleftover \u001B[38;5;241m=\u001B[39m chunk[:l], chunk[l:]\n",
      "File \u001B[1;32m~\\anaconda3\\Lib\\site-packages\\ir_datasets\\util\\download.py:101\u001B[0m, in \u001B[0;36mRequestsDownload.__iter__\u001B[1;34m(self)\u001B[0m\n\u001B[0;32m    100\u001B[0m \u001B[38;5;28;01mtry\u001B[39;00m:\n\u001B[1;32m--> 101\u001B[0m     response \u001B[38;5;241m=\u001B[39m stack\u001B[38;5;241m.\u001B[39menter_context(requests\u001B[38;5;241m.\u001B[39mget(\u001B[38;5;241m*\u001B[39m\u001B[38;5;241m*\u001B[39mhttp_args))\n\u001B[0;32m    102\u001B[0m     \u001B[38;5;28;01mif\u001B[39;00m pbar \u001B[38;5;129;01mis\u001B[39;00m \u001B[38;5;28;01mNone\u001B[39;00m:\n",
      "File \u001B[1;32m~\\anaconda3\\Lib\\site-packages\\requests\\api.py:73\u001B[0m, in \u001B[0;36mget\u001B[1;34m(url, params, **kwargs)\u001B[0m\n\u001B[0;32m     63\u001B[0m \u001B[38;5;250m\u001B[39m\u001B[38;5;124mr\u001B[39m\u001B[38;5;124;03m\"\"\"Sends a GET request.\u001B[39;00m\n\u001B[0;32m     64\u001B[0m \n\u001B[0;32m     65\u001B[0m \u001B[38;5;124;03m:param url: URL for the new :class:`Request` object.\u001B[39;00m\n\u001B[1;32m   (...)\u001B[0m\n\u001B[0;32m     70\u001B[0m \u001B[38;5;124;03m:rtype: requests.Response\u001B[39;00m\n\u001B[0;32m     71\u001B[0m \u001B[38;5;124;03m\"\"\"\u001B[39;00m\n\u001B[1;32m---> 73\u001B[0m \u001B[38;5;28;01mreturn\u001B[39;00m request(\u001B[38;5;124m\"\u001B[39m\u001B[38;5;124mget\u001B[39m\u001B[38;5;124m\"\u001B[39m, url, params\u001B[38;5;241m=\u001B[39mparams, \u001B[38;5;241m*\u001B[39m\u001B[38;5;241m*\u001B[39mkwargs)\n",
      "File \u001B[1;32m~\\anaconda3\\Lib\\site-packages\\requests\\api.py:59\u001B[0m, in \u001B[0;36mrequest\u001B[1;34m(method, url, **kwargs)\u001B[0m\n\u001B[0;32m     58\u001B[0m \u001B[38;5;28;01mwith\u001B[39;00m sessions\u001B[38;5;241m.\u001B[39mSession() \u001B[38;5;28;01mas\u001B[39;00m session:\n\u001B[1;32m---> 59\u001B[0m     \u001B[38;5;28;01mreturn\u001B[39;00m session\u001B[38;5;241m.\u001B[39mrequest(method\u001B[38;5;241m=\u001B[39mmethod, url\u001B[38;5;241m=\u001B[39murl, \u001B[38;5;241m*\u001B[39m\u001B[38;5;241m*\u001B[39mkwargs)\n",
      "File \u001B[1;32m~\\anaconda3\\Lib\\site-packages\\requests\\sessions.py:589\u001B[0m, in \u001B[0;36mSession.request\u001B[1;34m(self, method, url, params, data, headers, cookies, files, auth, timeout, allow_redirects, proxies, hooks, stream, verify, cert, json)\u001B[0m\n\u001B[0;32m    588\u001B[0m send_kwargs\u001B[38;5;241m.\u001B[39mupdate(settings)\n\u001B[1;32m--> 589\u001B[0m resp \u001B[38;5;241m=\u001B[39m \u001B[38;5;28mself\u001B[39m\u001B[38;5;241m.\u001B[39msend(prep, \u001B[38;5;241m*\u001B[39m\u001B[38;5;241m*\u001B[39msend_kwargs)\n\u001B[0;32m    591\u001B[0m \u001B[38;5;28;01mreturn\u001B[39;00m resp\n",
      "File \u001B[1;32m~\\anaconda3\\Lib\\site-packages\\requests\\sessions.py:703\u001B[0m, in \u001B[0;36mSession.send\u001B[1;34m(self, request, **kwargs)\u001B[0m\n\u001B[0;32m    702\u001B[0m \u001B[38;5;66;03m# Send the request\u001B[39;00m\n\u001B[1;32m--> 703\u001B[0m r \u001B[38;5;241m=\u001B[39m adapter\u001B[38;5;241m.\u001B[39msend(request, \u001B[38;5;241m*\u001B[39m\u001B[38;5;241m*\u001B[39mkwargs)\n\u001B[0;32m    705\u001B[0m \u001B[38;5;66;03m# Total elapsed time of the request (approximately)\u001B[39;00m\n",
      "File \u001B[1;32m~\\anaconda3\\Lib\\site-packages\\requests\\adapters.py:635\u001B[0m, in \u001B[0;36mHTTPAdapter.send\u001B[1;34m(self, request, stream, timeout, verify, cert, proxies)\u001B[0m\n\u001B[0;32m    634\u001B[0m \u001B[38;5;28;01melif\u001B[39;00m \u001B[38;5;28misinstance\u001B[39m(e, ReadTimeoutError):\n\u001B[1;32m--> 635\u001B[0m     \u001B[38;5;28;01mraise\u001B[39;00m ReadTimeout(e, request\u001B[38;5;241m=\u001B[39mrequest)\n\u001B[0;32m    636\u001B[0m \u001B[38;5;28;01melif\u001B[39;00m \u001B[38;5;28misinstance\u001B[39m(e, _InvalidHeader):\n",
      "\u001B[1;31mReadTimeout\u001B[0m: HTTPSConnectionPool(host='msmarco.z22.web.core.windows.net', port=443): Read timed out. (read timeout=15.0)",
      "\nDuring handling of the above exception, another exception occurred:\n",
      "\u001B[1;31mPermissionError\u001B[0m                           Traceback (most recent call last)",
      "Cell \u001B[1;32mIn[3], line 9\u001B[0m\n\u001B[0;32m      1\u001B[0m idx_path \u001B[38;5;241m=\u001B[39m Path\u001B[38;5;241m.\u001B[39mcwd() \u001B[38;5;241m/\u001B[39m \u001B[38;5;124m\"\u001B[39m\u001B[38;5;124mindices\u001B[39m\u001B[38;5;124m\"\u001B[39m \u001B[38;5;241m/\u001B[39m \u001B[38;5;124m\"\u001B[39m\u001B[38;5;124mmsmarco_index\u001B[39m\u001B[38;5;124m\"\u001B[39m\n\u001B[0;32m      3\u001B[0m index \u001B[38;5;241m=\u001B[39m pt\u001B[38;5;241m.\u001B[39mIterDictIndexer(\n\u001B[0;32m      4\u001B[0m     \u001B[38;5;28mstr\u001B[39m(idx_path),\n\u001B[0;32m      5\u001B[0m         meta\u001B[38;5;241m=\u001B[39m{\n\u001B[0;32m      6\u001B[0m         \u001B[38;5;124m\"\u001B[39m\u001B[38;5;124mdocno\u001B[39m\u001B[38;5;124m\"\u001B[39m: \u001B[38;5;241m39\u001B[39m,\n\u001B[0;32m      7\u001B[0m         \u001B[38;5;124m\"\u001B[39m\u001B[38;5;124mtext\u001B[39m\u001B[38;5;124m\"\u001B[39m: \u001B[38;5;241m131072\u001B[39m,\n\u001B[0;32m      8\u001B[0m     },\n\u001B[1;32m----> 9\u001B[0m )\u001B[38;5;241m.\u001B[39mindex(dataset_msmarco\u001B[38;5;241m.\u001B[39mget_corpus_iter())\n",
      "File \u001B[1;32m~\\anaconda3\\Lib\\site-packages\\pyterrier\\utils.py:207\u001B[0m, in \u001B[0;36mpre_invocation_decorator.<locals>._decorator_wrapper.<locals>._wrapper\u001B[1;34m(*args, **kwargs)\u001B[0m\n\u001B[0;32m    204\u001B[0m \u001B[38;5;129m@wraps\u001B[39m(fn)\n\u001B[0;32m    205\u001B[0m \u001B[38;5;28;01mdef\u001B[39;00m \u001B[38;5;21m_wrapper\u001B[39m(\u001B[38;5;241m*\u001B[39margs, \u001B[38;5;241m*\u001B[39m\u001B[38;5;241m*\u001B[39mkwargs):\n\u001B[0;32m    206\u001B[0m     decorator(fn)\n\u001B[1;32m--> 207\u001B[0m     \u001B[38;5;28;01mreturn\u001B[39;00m fn(\u001B[38;5;241m*\u001B[39margs, \u001B[38;5;241m*\u001B[39m\u001B[38;5;241m*\u001B[39mkwargs)\n",
      "File \u001B[1;32m~\\anaconda3\\Lib\\site-packages\\pyterrier\\terrier\\index.py:672\u001B[0m, in \u001B[0;36m_IterDictIndexer_nofifo.index\u001B[1;34m(self, it, fields, meta, meta_lengths, threads)\u001B[0m\n\u001B[0;32m    667\u001B[0m     iter_docs \u001B[38;5;241m=\u001B[39m \u001B[38;5;28;01mNone\u001B[39;00m\n\u001B[0;32m    669\u001B[0m \u001B[38;5;28;01melse\u001B[39;00m:\n\u001B[0;32m    670\u001B[0m \n\u001B[0;32m    671\u001B[0m     \u001B[38;5;66;03m# we need to prevent collectionIterator from being GCd\u001B[39;00m\n\u001B[1;32m--> 672\u001B[0m     collectionIterator \u001B[38;5;241m=\u001B[39m FlatJSONDocumentIterator(\u001B[38;5;28mself\u001B[39m\u001B[38;5;241m.\u001B[39m_filter_iterable(it, fields))\n\u001B[0;32m    673\u001B[0m     javaDocCollection \u001B[38;5;241m=\u001B[39m pt\u001B[38;5;241m.\u001B[39mterrier\u001B[38;5;241m.\u001B[39mJ\u001B[38;5;241m.\u001B[39mCollectionFromDocumentIterator(collectionIterator)\n\u001B[0;32m    674\u001B[0m     \u001B[38;5;66;03m# remove once 5.7 is now the minimum version\u001B[39;00m\n",
      "File \u001B[1;32m~\\anaconda3\\Lib\\site-packages\\pyterrier\\terrier\\index.py:596\u001B[0m, in \u001B[0;36m_BaseIterDictIndexer._filter_iterable\u001B[1;34m(self, it, indexed_fields)\u001B[0m\n\u001B[0;32m    593\u001B[0m \u001B[38;5;28;01melse\u001B[39;00m:\n\u001B[0;32m    594\u001B[0m     all_fields \u001B[38;5;241m=\u001B[39m {\u001B[38;5;124m'\u001B[39m\u001B[38;5;124mdocno\u001B[39m\u001B[38;5;124m'\u001B[39m} \u001B[38;5;241m|\u001B[39m \u001B[38;5;28mset\u001B[39m(indexed_fields) \u001B[38;5;241m|\u001B[39m \u001B[38;5;28mset\u001B[39m(\u001B[38;5;28mself\u001B[39m\u001B[38;5;241m.\u001B[39mmeta\u001B[38;5;241m.\u001B[39mkeys())\n\u001B[1;32m--> 596\u001B[0m first_docs, it \u001B[38;5;241m=\u001B[39m more_itertools\u001B[38;5;241m.\u001B[39mspy(it) \u001B[38;5;66;03m# peek at the first document and validate it\u001B[39;00m\n\u001B[0;32m    597\u001B[0m \u001B[38;5;28;01mif\u001B[39;00m \u001B[38;5;28mlen\u001B[39m(first_docs) \u001B[38;5;241m>\u001B[39m \u001B[38;5;241m0\u001B[39m: \u001B[38;5;66;03m# handle empty input\u001B[39;00m\n\u001B[0;32m    598\u001B[0m     \u001B[38;5;28mself\u001B[39m\u001B[38;5;241m.\u001B[39m_validate_doc_dict(first_docs[\u001B[38;5;241m0\u001B[39m])\n",
      "File \u001B[1;32m~\\anaconda3\\Lib\\site-packages\\more_itertools\\more.py:1055\u001B[0m, in \u001B[0;36mspy\u001B[1;34m(iterable, n)\u001B[0m\n\u001B[0;32m   1018\u001B[0m \u001B[38;5;250m\u001B[39m\u001B[38;5;124;03m\"\"\"Return a 2-tuple with a list containing the first *n* elements of\u001B[39;00m\n\u001B[0;32m   1019\u001B[0m \u001B[38;5;124;03m*iterable*, and an iterator with the same items as *iterable*.\u001B[39;00m\n\u001B[0;32m   1020\u001B[0m \u001B[38;5;124;03mThis allows you to \"look ahead\" at the items in the iterable without\u001B[39;00m\n\u001B[1;32m   (...)\u001B[0m\n\u001B[0;32m   1052\u001B[0m \n\u001B[0;32m   1053\u001B[0m \u001B[38;5;124;03m\"\"\"\u001B[39;00m\n\u001B[0;32m   1054\u001B[0m it \u001B[38;5;241m=\u001B[39m \u001B[38;5;28miter\u001B[39m(iterable)\n\u001B[1;32m-> 1055\u001B[0m head \u001B[38;5;241m=\u001B[39m take(n, it)\n\u001B[0;32m   1057\u001B[0m \u001B[38;5;28;01mreturn\u001B[39;00m head\u001B[38;5;241m.\u001B[39mcopy(), chain(head, it)\n",
      "File \u001B[1;32m~\\anaconda3\\Lib\\site-packages\\more_itertools\\recipes.py:106\u001B[0m, in \u001B[0;36mtake\u001B[1;34m(n, iterable)\u001B[0m\n\u001B[0;32m     93\u001B[0m \u001B[38;5;28;01mdef\u001B[39;00m \u001B[38;5;21mtake\u001B[39m(n, iterable):\n\u001B[0;32m     94\u001B[0m \u001B[38;5;250m    \u001B[39m\u001B[38;5;124;03m\"\"\"Return first *n* items of the iterable as a list.\u001B[39;00m\n\u001B[0;32m     95\u001B[0m \n\u001B[0;32m     96\u001B[0m \u001B[38;5;124;03m        >>> take(3, range(10))\u001B[39;00m\n\u001B[1;32m   (...)\u001B[0m\n\u001B[0;32m    104\u001B[0m \n\u001B[0;32m    105\u001B[0m \u001B[38;5;124;03m    \"\"\"\u001B[39;00m\n\u001B[1;32m--> 106\u001B[0m     \u001B[38;5;28;01mreturn\u001B[39;00m \u001B[38;5;28mlist\u001B[39m(islice(iterable, n))\n",
      "File \u001B[1;32m~\\anaconda3\\Lib\\site-packages\\pyterrier\\datasets.py:432\u001B[0m, in \u001B[0;36mIRDSDataset.get_corpus_iter.<locals>.gen\u001B[1;34m()\u001B[0m\n\u001B[0;32m    431\u001B[0m \u001B[38;5;28;01mdef\u001B[39;00m \u001B[38;5;21mgen\u001B[39m():\n\u001B[1;32m--> 432\u001B[0m     \u001B[38;5;28;01mfor\u001B[39;00m doc \u001B[38;5;129;01min\u001B[39;00m it:\n\u001B[0;32m    433\u001B[0m         doc \u001B[38;5;241m=\u001B[39m doc\u001B[38;5;241m.\u001B[39m_asdict()\n\u001B[0;32m    434\u001B[0m         \u001B[38;5;66;03m# pyterrier uses \"docno\"\u001B[39;00m\n",
      "File \u001B[1;32m~\\anaconda3\\Lib\\site-packages\\tqdm\\std.py:1181\u001B[0m, in \u001B[0;36mtqdm.__iter__\u001B[1;34m(self)\u001B[0m\n\u001B[0;32m   1178\u001B[0m time \u001B[38;5;241m=\u001B[39m \u001B[38;5;28mself\u001B[39m\u001B[38;5;241m.\u001B[39m_time\n\u001B[0;32m   1180\u001B[0m \u001B[38;5;28;01mtry\u001B[39;00m:\n\u001B[1;32m-> 1181\u001B[0m     \u001B[38;5;28;01mfor\u001B[39;00m obj \u001B[38;5;129;01min\u001B[39;00m iterable:\n\u001B[0;32m   1182\u001B[0m         \u001B[38;5;28;01myield\u001B[39;00m obj\n\u001B[0;32m   1183\u001B[0m         \u001B[38;5;66;03m# Update and possibly print the progressbar.\u001B[39;00m\n\u001B[0;32m   1184\u001B[0m         \u001B[38;5;66;03m# Note: does not call self.update(1) for speed optimisation.\u001B[39;00m\n",
      "File \u001B[1;32m~\\anaconda3\\Lib\\site-packages\\ir_datasets\\util\\__init__.py:147\u001B[0m, in \u001B[0;36mDocstoreSplitter.__next__\u001B[1;34m(self)\u001B[0m\n\u001B[0;32m    146\u001B[0m \u001B[38;5;28;01mdef\u001B[39;00m \u001B[38;5;21m__next__\u001B[39m(\u001B[38;5;28mself\u001B[39m):\n\u001B[1;32m--> 147\u001B[0m     \u001B[38;5;28;01mreturn\u001B[39;00m \u001B[38;5;28mnext\u001B[39m(\u001B[38;5;28mself\u001B[39m\u001B[38;5;241m.\u001B[39mit)\n",
      "File \u001B[1;32m~\\anaconda3\\Lib\\site-packages\\ir_datasets\\formats\\tsv.py:93\u001B[0m, in \u001B[0;36mTsvIter.__next__\u001B[1;34m(self)\u001B[0m\n\u001B[0;32m     92\u001B[0m \u001B[38;5;28;01mdef\u001B[39;00m \u001B[38;5;21m__next__\u001B[39m(\u001B[38;5;28mself\u001B[39m):\n\u001B[1;32m---> 93\u001B[0m     line \u001B[38;5;241m=\u001B[39m \u001B[38;5;28mnext\u001B[39m(\u001B[38;5;28mself\u001B[39m\u001B[38;5;241m.\u001B[39mline_iter)\n\u001B[0;32m     94\u001B[0m     cols \u001B[38;5;241m=\u001B[39m line\u001B[38;5;241m.\u001B[39mrstrip(\u001B[38;5;124m'\u001B[39m\u001B[38;5;130;01m\\n\u001B[39;00m\u001B[38;5;124m'\u001B[39m)\u001B[38;5;241m.\u001B[39msplit(\u001B[38;5;124m'\u001B[39m\u001B[38;5;130;01m\\t\u001B[39;00m\u001B[38;5;124m'\u001B[39m)\n\u001B[0;32m     95\u001B[0m     num_cols \u001B[38;5;241m=\u001B[39m \u001B[38;5;28mlen\u001B[39m(\u001B[38;5;28mself\u001B[39m\u001B[38;5;241m.\u001B[39mcls\u001B[38;5;241m.\u001B[39m_fields)\n",
      "File \u001B[1;32m~\\anaconda3\\Lib\\site-packages\\ir_datasets\\formats\\tsv.py:28\u001B[0m, in \u001B[0;36mFileLineIter.__next__\u001B[1;34m(self)\u001B[0m\n\u001B[0;32m     26\u001B[0m         \u001B[38;5;28mself\u001B[39m\u001B[38;5;241m.\u001B[39mstream \u001B[38;5;241m=\u001B[39m io\u001B[38;5;241m.\u001B[39mTextIOWrapper(\u001B[38;5;28mself\u001B[39m\u001B[38;5;241m.\u001B[39mctxt\u001B[38;5;241m.\u001B[39menter_context(\u001B[38;5;28mself\u001B[39m\u001B[38;5;241m.\u001B[39mdlc[\u001B[38;5;28mself\u001B[39m\u001B[38;5;241m.\u001B[39mstream_idx]\u001B[38;5;241m.\u001B[39mstream()))\n\u001B[0;32m     27\u001B[0m     \u001B[38;5;28;01melse\u001B[39;00m:\n\u001B[1;32m---> 28\u001B[0m         \u001B[38;5;28mself\u001B[39m\u001B[38;5;241m.\u001B[39mstream \u001B[38;5;241m=\u001B[39m io\u001B[38;5;241m.\u001B[39mTextIOWrapper(\u001B[38;5;28mself\u001B[39m\u001B[38;5;241m.\u001B[39mctxt\u001B[38;5;241m.\u001B[39menter_context(\u001B[38;5;28mself\u001B[39m\u001B[38;5;241m.\u001B[39mdlc\u001B[38;5;241m.\u001B[39mstream()))\n\u001B[0;32m     29\u001B[0m line \u001B[38;5;241m=\u001B[39m \u001B[38;5;124m'\u001B[39m\u001B[38;5;124m'\u001B[39m\n\u001B[0;32m     30\u001B[0m \u001B[38;5;28;01mwhile\u001B[39;00m \u001B[38;5;28mself\u001B[39m\u001B[38;5;241m.\u001B[39mpos \u001B[38;5;241m<\u001B[39m \u001B[38;5;28mself\u001B[39m\u001B[38;5;241m.\u001B[39mstart:\n",
      "File \u001B[1;32m~\\anaconda3\\Lib\\contextlib.py:526\u001B[0m, in \u001B[0;36m_BaseExitStack.enter_context\u001B[1;34m(self, cm)\u001B[0m\n\u001B[0;32m    523\u001B[0m \u001B[38;5;28;01mexcept\u001B[39;00m \u001B[38;5;167;01mAttributeError\u001B[39;00m:\n\u001B[0;32m    524\u001B[0m     \u001B[38;5;28;01mraise\u001B[39;00m \u001B[38;5;167;01mTypeError\u001B[39;00m(\u001B[38;5;124mf\u001B[39m\u001B[38;5;124m\"\u001B[39m\u001B[38;5;124m'\u001B[39m\u001B[38;5;132;01m{\u001B[39;00m\u001B[38;5;28mcls\u001B[39m\u001B[38;5;241m.\u001B[39m\u001B[38;5;18m__module__\u001B[39m\u001B[38;5;132;01m}\u001B[39;00m\u001B[38;5;124m.\u001B[39m\u001B[38;5;132;01m{\u001B[39;00m\u001B[38;5;28mcls\u001B[39m\u001B[38;5;241m.\u001B[39m\u001B[38;5;18m__qualname__\u001B[39m\u001B[38;5;132;01m}\u001B[39;00m\u001B[38;5;124m'\u001B[39m\u001B[38;5;124m object does \u001B[39m\u001B[38;5;124m\"\u001B[39m\n\u001B[0;32m    525\u001B[0m                     \u001B[38;5;124mf\u001B[39m\u001B[38;5;124m\"\u001B[39m\u001B[38;5;124mnot support the context manager protocol\u001B[39m\u001B[38;5;124m\"\u001B[39m) \u001B[38;5;28;01mfrom\u001B[39;00m \u001B[38;5;28;01mNone\u001B[39;00m\n\u001B[1;32m--> 526\u001B[0m result \u001B[38;5;241m=\u001B[39m _enter(cm)\n\u001B[0;32m    527\u001B[0m \u001B[38;5;28mself\u001B[39m\u001B[38;5;241m.\u001B[39m_push_cm_exit(cm, _exit)\n\u001B[0;32m    528\u001B[0m \u001B[38;5;28;01mreturn\u001B[39;00m result\n",
      "File \u001B[1;32m~\\anaconda3\\Lib\\contextlib.py:137\u001B[0m, in \u001B[0;36m_GeneratorContextManager.__enter__\u001B[1;34m(self)\u001B[0m\n\u001B[0;32m    135\u001B[0m \u001B[38;5;28;01mdel\u001B[39;00m \u001B[38;5;28mself\u001B[39m\u001B[38;5;241m.\u001B[39margs, \u001B[38;5;28mself\u001B[39m\u001B[38;5;241m.\u001B[39mkwds, \u001B[38;5;28mself\u001B[39m\u001B[38;5;241m.\u001B[39mfunc\n\u001B[0;32m    136\u001B[0m \u001B[38;5;28;01mtry\u001B[39;00m:\n\u001B[1;32m--> 137\u001B[0m     \u001B[38;5;28;01mreturn\u001B[39;00m \u001B[38;5;28mnext\u001B[39m(\u001B[38;5;28mself\u001B[39m\u001B[38;5;241m.\u001B[39mgen)\n\u001B[0;32m    138\u001B[0m \u001B[38;5;28;01mexcept\u001B[39;00m \u001B[38;5;167;01mStopIteration\u001B[39;00m:\n\u001B[0;32m    139\u001B[0m     \u001B[38;5;28;01mraise\u001B[39;00m \u001B[38;5;167;01mRuntimeError\u001B[39;00m(\u001B[38;5;124m\"\u001B[39m\u001B[38;5;124mgenerator didn\u001B[39m\u001B[38;5;124m'\u001B[39m\u001B[38;5;124mt yield\u001B[39m\u001B[38;5;124m\"\u001B[39m) \u001B[38;5;28;01mfrom\u001B[39;00m \u001B[38;5;28;01mNone\u001B[39;00m\n",
      "File \u001B[1;32m~\\anaconda3\\Lib\\site-packages\\ir_datasets\\util\\fileio.py:78\u001B[0m, in \u001B[0;36mCache.stream\u001B[1;34m(self)\u001B[0m\n\u001B[0;32m     76\u001B[0m \u001B[38;5;129m@contextlib\u001B[39m\u001B[38;5;241m.\u001B[39mcontextmanager\n\u001B[0;32m     77\u001B[0m \u001B[38;5;28;01mdef\u001B[39;00m \u001B[38;5;21mstream\u001B[39m(\u001B[38;5;28mself\u001B[39m):\n\u001B[1;32m---> 78\u001B[0m     \u001B[38;5;28mself\u001B[39m\u001B[38;5;241m.\u001B[39mverify()\n\u001B[0;32m     79\u001B[0m     \u001B[38;5;28;01mwith\u001B[39;00m \u001B[38;5;28mself\u001B[39m\u001B[38;5;241m.\u001B[39m_path\u001B[38;5;241m.\u001B[39mopen(\u001B[38;5;124m'\u001B[39m\u001B[38;5;124mrb\u001B[39m\u001B[38;5;124m'\u001B[39m) \u001B[38;5;28;01mas\u001B[39;00m f:\n\u001B[0;32m     80\u001B[0m         \u001B[38;5;28;01myield\u001B[39;00m f\n",
      "File \u001B[1;32m~\\anaconda3\\Lib\\site-packages\\ir_datasets\\util\\fileio.py:74\u001B[0m, in \u001B[0;36mCache.verify\u001B[1;34m(self)\u001B[0m\n\u001B[0;32m     72\u001B[0m \u001B[38;5;28;01mfinally\u001B[39;00m:\n\u001B[0;32m     73\u001B[0m     \u001B[38;5;28;01mif\u001B[39;00m Path(f\u001B[38;5;241m.\u001B[39mname)\u001B[38;5;241m.\u001B[39mexists():\n\u001B[1;32m---> 74\u001B[0m         Path(f\u001B[38;5;241m.\u001B[39mname)\u001B[38;5;241m.\u001B[39munlink()\n",
      "File \u001B[1;32m~\\anaconda3\\Lib\\pathlib.py:1342\u001B[0m, in \u001B[0;36mPath.unlink\u001B[1;34m(self, missing_ok)\u001B[0m\n\u001B[0;32m   1337\u001B[0m \u001B[38;5;250m\u001B[39m\u001B[38;5;124;03m\"\"\"\u001B[39;00m\n\u001B[0;32m   1338\u001B[0m \u001B[38;5;124;03mRemove this file or link.\u001B[39;00m\n\u001B[0;32m   1339\u001B[0m \u001B[38;5;124;03mIf the path is a directory, use rmdir() instead.\u001B[39;00m\n\u001B[0;32m   1340\u001B[0m \u001B[38;5;124;03m\"\"\"\u001B[39;00m\n\u001B[0;32m   1341\u001B[0m \u001B[38;5;28;01mtry\u001B[39;00m:\n\u001B[1;32m-> 1342\u001B[0m     os\u001B[38;5;241m.\u001B[39munlink(\u001B[38;5;28mself\u001B[39m)\n\u001B[0;32m   1343\u001B[0m \u001B[38;5;28;01mexcept\u001B[39;00m \u001B[38;5;167;01mFileNotFoundError\u001B[39;00m:\n\u001B[0;32m   1344\u001B[0m     \u001B[38;5;28;01mif\u001B[39;00m \u001B[38;5;129;01mnot\u001B[39;00m missing_ok:\n",
      "\u001B[1;31mPermissionError\u001B[0m: [WinError 32] The process cannot access the file because it is being used by another process: 'C:\\\\Users\\\\basma\\\\.ir_datasets\\\\msmarco-passage\\\\collection.tsv.tmp0'"
     ]
    }
   ],
   "execution_count": 3
  },
  {
   "cell_type": "code",
   "metadata": {
    "jupyter": {
     "is_executing": true
    },
    "ExecuteTime": {
     "start_time": "2025-03-28T09:33:30.939830Z"
    }
   },
   "source": [
    "idx_path = Path.cwd() / \"indices\" / \"dbpedia_index\"\n",
    "\n",
    "index = pt.IterDictIndexer(\n",
    "    str(idx_path),\n",
    "        meta={\n",
    "        \"docno\": 39,\n",
    "        \"text\": 131072,\n",
    "    },\n",
    ").index(dataset_dbpedia.get_corpus_iter())"
   ],
   "id": "eed7a70a2ba8e95f",
   "outputs": [
    {
     "name": "stderr",
     "output_type": "stream",
     "text": [
      "[INFO] [starting] building docstore\n",
      "[INFO] [starting] opening zip file                                              \n",
      "[INFO] If you have a local copy of https://public.ukp.informatik.tu-darmstadt.de/thakur/BEIR/datasets/dbpedia-entity.zip, you can symlink it here to avoid downloading it again: C:\\Users\\basma\\.ir_datasets\\downloads\\c2a39eb420a3164af735795df012ac2c\n",
      "[INFO] [starting] https://public.ukp.informatik.tu-darmstadt.de/thakur/BEIR/datasets/dbpedia-entity.zip\n",
      "docs_iter:   0%|                                   | 0/4635922 [00:00<?, ?doc/s]\n",
      "https://public.ukp.informatik.tu-darmstadt.de/thakur/BEIR/datasets/dbpedia-entity.zip: 0.0%| 0.00/639M [00:00<?, ?B/s]\u001B[A\n",
      "https://public.ukp.informatik.tu-darmstadt.de/thakur/BEIR/datasets/dbpedia-entity.zip: 0.2%| 1.56M/639M [00:00<00:42, 14.9MB/s]\u001B[A\n",
      "https://public.ukp.informatik.tu-darmstadt.de/thakur/BEIR/datasets/dbpedia-entity.zip: 0.5%| 3.11M/639M [00:00<00:43, 14.8MB/s]\u001B[A\n",
      "https://public.ukp.informatik.tu-darmstadt.de/thakur/BEIR/datasets/dbpedia-entity.zip: 0.7%| 4.67M/639M [00:00<00:43, 14.6MB/s]\u001B[A\n",
      "https://public.ukp.informatik.tu-darmstadt.de/thakur/BEIR/datasets/dbpedia-entity.zip: 1.0%| 6.23M/639M [00:01<01:46, 5.93MB/s]\u001B[A\n",
      "https://public.ukp.informatik.tu-darmstadt.de/thakur/BEIR/datasets/dbpedia-entity.zip: 1.2%| 7.91M/639M [00:01<01:31, 6.88MB/s]\u001B[A\n",
      "https://public.ukp.informatik.tu-darmstadt.de/thakur/BEIR/datasets/dbpedia-entity.zip: 1.5%| 9.60M/639M [00:01<01:23, 7.57MB/s]\u001B[A\n",
      "https://public.ukp.informatik.tu-darmstadt.de/thakur/BEIR/datasets/dbpedia-entity.zip: 1.8%| 11.3M/639M [00:01<01:42, 6.15MB/s]\u001B[A\n",
      "https://public.ukp.informatik.tu-darmstadt.de/thakur/BEIR/datasets/dbpedia-entity.zip: 2.0%| 13.0M/639M [00:01<01:33, 6.68MB/s]\u001B[A\n",
      "https://public.ukp.informatik.tu-darmstadt.de/thakur/BEIR/datasets/dbpedia-entity.zip: 2.3%| 14.9M/639M [00:02<01:25, 7.27MB/s]\u001B[A\n",
      "https://public.ukp.informatik.tu-darmstadt.de/thakur/BEIR/datasets/dbpedia-entity.zip: 2.6%| 16.8M/639M [00:02<01:20, 7.78MB/s]\u001B[A\n",
      "https://public.ukp.informatik.tu-darmstadt.de/thakur/BEIR/datasets/dbpedia-entity.zip: 2.9%| 18.7M/639M [00:02<01:15, 8.24MB/s]\u001B[A\n",
      "https://public.ukp.informatik.tu-darmstadt.de/thakur/BEIR/datasets/dbpedia-entity.zip: 3.2%| 20.6M/639M [00:02<01:27, 7.11MB/s]\u001B[A\n",
      "https://public.ukp.informatik.tu-darmstadt.de/thakur/BEIR/datasets/dbpedia-entity.zip: 3.5%| 22.6M/639M [00:03<01:22, 7.45MB/s]\u001B[A\n",
      "https://public.ukp.informatik.tu-darmstadt.de/thakur/BEIR/datasets/dbpedia-entity.zip: 3.8%| 24.5M/639M [00:03<01:19, 7.77MB/s]\u001B[A\n",
      "https://public.ukp.informatik.tu-darmstadt.de/thakur/BEIR/datasets/dbpedia-entity.zip: 4.1%| 26.4M/639M [00:03<01:15, 8.08MB/s]\u001B[A\n",
      "https://public.ukp.informatik.tu-darmstadt.de/thakur/BEIR/datasets/dbpedia-entity.zip: 4.4%| 28.3M/639M [00:04<01:26, 7.07MB/s]\u001B[A\n",
      "https://public.ukp.informatik.tu-darmstadt.de/thakur/BEIR/datasets/dbpedia-entity.zip: 4.7%| 30.2M/639M [00:04<01:24, 7.21MB/s]\u001B[A\n",
      "https://public.ukp.informatik.tu-darmstadt.de/thakur/BEIR/datasets/dbpedia-entity.zip: 5.0%| 32.1M/639M [00:04<01:22, 7.39MB/s]\u001B[A\n",
      "https://public.ukp.informatik.tu-darmstadt.de/thakur/BEIR/datasets/dbpedia-entity.zip: 5.3%| 34.1M/639M [00:05<01:29, 6.77MB/s]\u001B[A\n",
      "https://public.ukp.informatik.tu-darmstadt.de/thakur/BEIR/datasets/dbpedia-entity.zip: 5.6%| 36.0M/639M [00:05<01:28, 6.85MB/s]\u001B[A\n",
      "https://public.ukp.informatik.tu-darmstadt.de/thakur/BEIR/datasets/dbpedia-entity.zip: 5.9%| 37.9M/639M [00:05<01:25, 7.01MB/s]\u001B[A\n",
      "https://public.ukp.informatik.tu-darmstadt.de/thakur/BEIR/datasets/dbpedia-entity.zip: 6.2%| 39.8M/639M [00:06<01:30, 6.60MB/s]\u001B[A\n",
      "https://public.ukp.informatik.tu-darmstadt.de/thakur/BEIR/datasets/dbpedia-entity.zip: 6.5%| 41.7M/639M [00:06<01:29, 6.64MB/s]\u001B[A\n",
      "https://public.ukp.informatik.tu-darmstadt.de/thakur/BEIR/datasets/dbpedia-entity.zip: 6.8%| 43.6M/639M [00:06<01:28, 6.76MB/s]\u001B[A\n",
      "https://public.ukp.informatik.tu-darmstadt.de/thakur/BEIR/datasets/dbpedia-entity.zip: 7.1%| 45.6M/639M [00:06<01:28, 6.73MB/s]\u001B[A\n",
      "https://public.ukp.informatik.tu-darmstadt.de/thakur/BEIR/datasets/dbpedia-entity.zip: 7.4%| 47.5M/639M [00:07<01:27, 6.78MB/s]\u001B[A\n",
      "https://public.ukp.informatik.tu-darmstadt.de/thakur/BEIR/datasets/dbpedia-entity.zip: 7.7%| 49.4M/639M [00:07<01:26, 6.78MB/s]\u001B[A\n",
      "https://public.ukp.informatik.tu-darmstadt.de/thakur/BEIR/datasets/dbpedia-entity.zip: 8.0%| 51.3M/639M [00:07<01:27, 6.70MB/s]\u001B[A\n",
      "https://public.ukp.informatik.tu-darmstadt.de/thakur/BEIR/datasets/dbpedia-entity.zip: 8.3%| 53.2M/639M [00:07<01:27, 6.70MB/s]\u001B[A\n",
      "https://public.ukp.informatik.tu-darmstadt.de/thakur/BEIR/datasets/dbpedia-entity.zip: 8.6%| 55.1M/639M [00:08<01:27, 6.67MB/s]\u001B[A\n",
      "https://public.ukp.informatik.tu-darmstadt.de/thakur/BEIR/datasets/dbpedia-entity.zip: 8.9%| 57.1M/639M [00:08<01:28, 6.57MB/s]\u001B[A\n",
      "https://public.ukp.informatik.tu-darmstadt.de/thakur/BEIR/datasets/dbpedia-entity.zip: 9.2%| 59.0M/639M [00:09<01:35, 6.08MB/s]\u001B[A\n",
      "https://public.ukp.informatik.tu-darmstadt.de/thakur/BEIR/datasets/dbpedia-entity.zip: 9.6%| 61.4M/639M [00:09<01:32, 6.27MB/s]\u001B[A\n",
      "https://public.ukp.informatik.tu-darmstadt.de/thakur/BEIR/datasets/dbpedia-entity.zip: 10.0%| 64.0M/639M [00:09<01:29, 6.46MB/s]\u001B[A\n",
      "https://public.ukp.informatik.tu-darmstadt.de/thakur/BEIR/datasets/dbpedia-entity.zip: 10.4%| 66.6M/639M [00:10<01:29, 6.38MB/s]\u001B[A\n",
      "https://public.ukp.informatik.tu-darmstadt.de/thakur/BEIR/datasets/dbpedia-entity.zip: 10.8%| 69.1M/639M [00:10<01:26, 6.56MB/s]\u001B[A\n",
      "https://public.ukp.informatik.tu-darmstadt.de/thakur/BEIR/datasets/dbpedia-entity.zip: 11.2%| 71.7M/639M [00:11<01:27, 6.48MB/s]\u001B[A\n",
      "https://public.ukp.informatik.tu-darmstadt.de/thakur/BEIR/datasets/dbpedia-entity.zip: 11.6%| 74.3M/639M [00:11<01:24, 6.65MB/s]\u001B[A\n",
      "https://public.ukp.informatik.tu-darmstadt.de/thakur/BEIR/datasets/dbpedia-entity.zip: 12.0%| 76.9M/639M [00:11<01:25, 6.58MB/s]\u001B[A\n",
      "https://public.ukp.informatik.tu-darmstadt.de/thakur/BEIR/datasets/dbpedia-entity.zip: 12.4%| 79.5M/639M [00:11<01:23, 6.73MB/s]\u001B[A\n",
      "https://public.ukp.informatik.tu-darmstadt.de/thakur/BEIR/datasets/dbpedia-entity.zip: 12.8%| 82.0M/639M [00:12<01:23, 6.65MB/s]\u001B[A\n",
      "https://public.ukp.informatik.tu-darmstadt.de/thakur/BEIR/datasets/dbpedia-entity.zip: 13.2%| 84.6M/639M [00:12<01:21, 6.81MB/s]\u001B[A\n",
      "https://public.ukp.informatik.tu-darmstadt.de/thakur/BEIR/datasets/dbpedia-entity.zip: 13.6%| 87.2M/639M [00:12<01:19, 6.90MB/s]\u001B[A\n",
      "https://public.ukp.informatik.tu-darmstadt.de/thakur/BEIR/datasets/dbpedia-entity.zip: 14.0%| 89.8M/639M [00:13<01:20, 6.82MB/s]\u001B[A\n",
      "https://public.ukp.informatik.tu-darmstadt.de/thakur/BEIR/datasets/dbpedia-entity.zip: 14.4%| 92.4M/639M [00:13<01:18, 6.95MB/s]\u001B[A\n",
      "https://public.ukp.informatik.tu-darmstadt.de/thakur/BEIR/datasets/dbpedia-entity.zip: 14.9%| 94.9M/639M [00:13<01:18, 6.89MB/s]\u001B[A\n",
      "https://public.ukp.informatik.tu-darmstadt.de/thakur/BEIR/datasets/dbpedia-entity.zip: 15.3%| 97.5M/639M [00:13<01:17, 7.02MB/s]\u001B[A\n",
      "https://public.ukp.informatik.tu-darmstadt.de/thakur/BEIR/datasets/dbpedia-entity.zip: 15.7%| 100M/639M [00:13<01:15, 7.15MB/s] \u001B[A\n",
      "https://public.ukp.informatik.tu-darmstadt.de/thakur/BEIR/datasets/dbpedia-entity.zip: 16.1%| 103M/639M [00:14<01:13, 7.30MB/s]\u001B[A\n",
      "https://public.ukp.informatik.tu-darmstadt.de/thakur/BEIR/datasets/dbpedia-entity.zip: 16.6%| 106M/639M [00:14<01:15, 7.10MB/s]\u001B[A\n",
      "https://public.ukp.informatik.tu-darmstadt.de/thakur/BEIR/datasets/dbpedia-entity.zip: 17.1%| 109M/639M [00:15<01:13, 7.20MB/s]\u001B[A\n",
      "https://public.ukp.informatik.tu-darmstadt.de/thakur/BEIR/datasets/dbpedia-entity.zip: 17.6%| 113M/639M [00:16<01:15, 6.96MB/s]\u001B[A\n",
      "https://public.ukp.informatik.tu-darmstadt.de/thakur/BEIR/datasets/dbpedia-entity.zip: 18.1%| 116M/639M [00:16<01:13, 7.10MB/s]\u001B[A\n",
      "https://public.ukp.informatik.tu-darmstadt.de/thakur/BEIR/datasets/dbpedia-entity.zip: 18.6%| 119M/639M [00:16<01:13, 7.08MB/s]\u001B[A\n",
      "https://public.ukp.informatik.tu-darmstadt.de/thakur/BEIR/datasets/dbpedia-entity.zip: 19.1%| 122M/639M [00:16<01:11, 7.22MB/s]\u001B[A\n",
      "https://public.ukp.informatik.tu-darmstadt.de/thakur/BEIR/datasets/dbpedia-entity.zip: 19.6%| 125M/639M [00:17<01:11, 7.20MB/s]\u001B[A\n",
      "https://public.ukp.informatik.tu-darmstadt.de/thakur/BEIR/datasets/dbpedia-entity.zip: 20.1%| 128M/639M [00:17<01:09, 7.33MB/s]\u001B[A\n",
      "https://public.ukp.informatik.tu-darmstadt.de/thakur/BEIR/datasets/dbpedia-entity.zip: 20.6%| 132M/639M [00:17<01:09, 7.34MB/s]\u001B[A\n",
      "https://public.ukp.informatik.tu-darmstadt.de/thakur/BEIR/datasets/dbpedia-entity.zip: 21.1%| 135M/639M [00:18<01:07, 7.47MB/s]\u001B[A\n",
      "https://public.ukp.informatik.tu-darmstadt.de/thakur/BEIR/datasets/dbpedia-entity.zip: 21.6%| 138M/639M [00:18<01:07, 7.42MB/s]\u001B[A\n",
      "https://public.ukp.informatik.tu-darmstadt.de/thakur/BEIR/datasets/dbpedia-entity.zip: 22.1%| 141M/639M [00:18<01:06, 7.54MB/s]\u001B[A\n",
      "https://public.ukp.informatik.tu-darmstadt.de/thakur/BEIR/datasets/dbpedia-entity.zip: 22.6%| 144M/639M [00:19<01:06, 7.50MB/s]\u001B[A\n",
      "https://public.ukp.informatik.tu-darmstadt.de/thakur/BEIR/datasets/dbpedia-entity.zip: 23.1%| 147M/639M [00:19<01:04, 7.61MB/s]\u001B[A\n",
      "https://public.ukp.informatik.tu-darmstadt.de/thakur/BEIR/datasets/dbpedia-entity.zip: 23.6%| 151M/639M [00:19<01:03, 7.72MB/s]\u001B[A\n",
      "https://public.ukp.informatik.tu-darmstadt.de/thakur/BEIR/datasets/dbpedia-entity.zip: 24.1%| 154M/639M [00:19<01:01, 7.83MB/s]\u001B[A\n",
      "https://public.ukp.informatik.tu-darmstadt.de/thakur/BEIR/datasets/dbpedia-entity.zip: 24.6%| 157M/639M [00:20<01:03, 7.60MB/s]\u001B[A\n",
      "https://public.ukp.informatik.tu-darmstadt.de/thakur/BEIR/datasets/dbpedia-entity.zip: 25.1%| 160M/639M [00:21<01:03, 7.54MB/s]\u001B[A\n",
      "https://public.ukp.informatik.tu-darmstadt.de/thakur/BEIR/datasets/dbpedia-entity.zip: 25.6%| 163M/639M [00:21<01:02, 7.63MB/s]\u001B[A\n",
      "https://public.ukp.informatik.tu-darmstadt.de/thakur/BEIR/datasets/dbpedia-entity.zip: 26.1%| 167M/639M [00:21<01:01, 7.73MB/s]\u001B[A\n",
      "https://public.ukp.informatik.tu-darmstadt.de/thakur/BEIR/datasets/dbpedia-entity.zip: 26.5%| 170M/639M [00:21<00:59, 7.83MB/s]\u001B[A\n",
      "https://public.ukp.informatik.tu-darmstadt.de/thakur/BEIR/datasets/dbpedia-entity.zip: 27.0%| 173M/639M [00:22<01:01, 7.63MB/s]\u001B[A\n",
      "https://public.ukp.informatik.tu-darmstadt.de/thakur/BEIR/datasets/dbpedia-entity.zip: 27.5%| 176M/639M [00:23<01:01, 7.56MB/s]\u001B[A\n",
      "https://public.ukp.informatik.tu-darmstadt.de/thakur/BEIR/datasets/dbpedia-entity.zip: 28.0%| 179M/639M [00:23<01:00, 7.65MB/s]\u001B[A\n",
      "https://public.ukp.informatik.tu-darmstadt.de/thakur/BEIR/datasets/dbpedia-entity.zip: 28.5%| 182M/639M [00:23<00:58, 7.75MB/s]\u001B[A\n",
      "https://public.ukp.informatik.tu-darmstadt.de/thakur/BEIR/datasets/dbpedia-entity.zip: 29.0%| 186M/639M [00:23<00:58, 7.81MB/s]\u001B[A\n",
      "https://public.ukp.informatik.tu-darmstadt.de/thakur/BEIR/datasets/dbpedia-entity.zip: 29.5%| 189M/639M [00:24<00:58, 7.76MB/s]\u001B[A\n",
      "https://public.ukp.informatik.tu-darmstadt.de/thakur/BEIR/datasets/dbpedia-entity.zip: 30.0%| 192M/639M [00:24<00:57, 7.84MB/s]\u001B[A\n",
      "https://public.ukp.informatik.tu-darmstadt.de/thakur/BEIR/datasets/dbpedia-entity.zip: 30.5%| 195M/639M [00:25<00:57, 7.78MB/s]\u001B[A\n",
      "https://public.ukp.informatik.tu-darmstadt.de/thakur/BEIR/datasets/dbpedia-entity.zip: 31.0%| 198M/639M [00:25<00:56, 7.86MB/s]\u001B[A\n",
      "https://public.ukp.informatik.tu-darmstadt.de/thakur/BEIR/datasets/dbpedia-entity.zip: 31.5%| 202M/639M [00:26<00:57, 7.67MB/s]\u001B[A\n",
      "https://public.ukp.informatik.tu-darmstadt.de/thakur/BEIR/datasets/dbpedia-entity.zip: 32.0%| 205M/639M [00:26<00:56, 7.75MB/s]\u001B[A\n",
      "https://public.ukp.informatik.tu-darmstadt.de/thakur/BEIR/datasets/dbpedia-entity.zip: 32.5%| 208M/639M [00:27<00:56, 7.69MB/s]\u001B[A\n",
      "https://public.ukp.informatik.tu-darmstadt.de/thakur/BEIR/datasets/dbpedia-entity.zip: 33.0%| 211M/639M [00:27<00:55, 7.78MB/s]\u001B[A\n",
      "https://public.ukp.informatik.tu-darmstadt.de/thakur/BEIR/datasets/dbpedia-entity.zip: 33.6%| 215M/639M [00:27<00:53, 7.89MB/s]\u001B[A\n",
      "https://public.ukp.informatik.tu-darmstadt.de/thakur/BEIR/datasets/dbpedia-entity.zip: 34.2%| 219M/639M [00:27<00:52, 8.00MB/s]\u001B[A\n",
      "https://public.ukp.informatik.tu-darmstadt.de/thakur/BEIR/datasets/dbpedia-entity.zip: 34.8%| 223M/639M [00:28<00:52, 7.86MB/s]\u001B[A\n",
      "https://public.ukp.informatik.tu-darmstadt.de/thakur/BEIR/datasets/dbpedia-entity.zip: 35.5%| 227M/639M [00:28<00:51, 7.98MB/s]\u001B[A\n",
      "https://public.ukp.informatik.tu-darmstadt.de/thakur/BEIR/datasets/dbpedia-entity.zip: 36.1%| 231M/639M [00:29<00:52, 7.83MB/s]\u001B[A\n",
      "https://public.ukp.informatik.tu-darmstadt.de/thakur/BEIR/datasets/dbpedia-entity.zip: 36.8%| 235M/639M [00:29<00:50, 7.95MB/s]\u001B[A\n",
      "https://public.ukp.informatik.tu-darmstadt.de/thakur/BEIR/datasets/dbpedia-entity.zip: 37.5%| 240M/639M [00:30<00:51, 7.82MB/s]\u001B[A\n",
      "https://public.ukp.informatik.tu-darmstadt.de/thakur/BEIR/datasets/dbpedia-entity.zip: 38.1%| 244M/639M [00:30<00:49, 7.94MB/s]\u001B[A\n",
      "https://public.ukp.informatik.tu-darmstadt.de/thakur/BEIR/datasets/dbpedia-entity.zip: 38.8%| 248M/639M [00:31<00:50, 7.82MB/s]\u001B[A\n",
      "https://public.ukp.informatik.tu-darmstadt.de/thakur/BEIR/datasets/dbpedia-entity.zip: 39.5%| 252M/639M [00:31<00:48, 7.92MB/s]\u001B[A\n",
      "https://public.ukp.informatik.tu-darmstadt.de/thakur/BEIR/datasets/dbpedia-entity.zip: 40.2%| 257M/639M [00:32<00:48, 7.81MB/s]\u001B[A\n",
      "https://public.ukp.informatik.tu-darmstadt.de/thakur/BEIR/datasets/dbpedia-entity.zip: 40.8%| 261M/639M [00:33<00:47, 7.90MB/s]\u001B[A\n",
      "https://public.ukp.informatik.tu-darmstadt.de/thakur/BEIR/datasets/dbpedia-entity.zip: 41.5%| 265M/639M [00:34<00:48, 7.78MB/s]\u001B[A\n",
      "https://public.ukp.informatik.tu-darmstadt.de/thakur/BEIR/datasets/dbpedia-entity.zip: 42.2%| 270M/639M [00:34<00:46, 7.89MB/s]\u001B[A\n",
      "https://public.ukp.informatik.tu-darmstadt.de/thakur/BEIR/datasets/dbpedia-entity.zip: 42.9%| 274M/639M [00:35<00:46, 7.78MB/s]\u001B[A\n",
      "https://public.ukp.informatik.tu-darmstadt.de/thakur/BEIR/datasets/dbpedia-entity.zip: 43.6%| 279M/639M [00:36<00:46, 7.68MB/s]\u001B[A\n",
      "https://public.ukp.informatik.tu-darmstadt.de/thakur/BEIR/datasets/dbpedia-entity.zip: 44.4%| 284M/639M [00:36<00:45, 7.78MB/s]\u001B[A\n",
      "https://public.ukp.informatik.tu-darmstadt.de/thakur/BEIR/datasets/dbpedia-entity.zip: 45.1%| 288M/639M [00:37<00:45, 7.66MB/s]\u001B[A\n",
      "https://public.ukp.informatik.tu-darmstadt.de/thakur/BEIR/datasets/dbpedia-entity.zip: 45.8%| 293M/639M [00:38<00:45, 7.57MB/s]\u001B[A\n",
      "https://public.ukp.informatik.tu-darmstadt.de/thakur/BEIR/datasets/dbpedia-entity.zip: 46.5%| 297M/639M [00:38<00:44, 7.65MB/s]\u001B[A\n",
      "https://public.ukp.informatik.tu-darmstadt.de/thakur/BEIR/datasets/dbpedia-entity.zip: 47.2%| 302M/639M [00:39<00:44, 7.64MB/s]\u001B[A\n",
      "https://public.ukp.informatik.tu-darmstadt.de/thakur/BEIR/datasets/dbpedia-entity.zip: 47.9%| 306M/639M [00:39<00:43, 7.72MB/s]\u001B[A\n",
      "https://public.ukp.informatik.tu-darmstadt.de/thakur/BEIR/datasets/dbpedia-entity.zip: 48.6%| 311M/639M [00:40<00:43, 7.61MB/s]\u001B[A\n",
      "https://public.ukp.informatik.tu-darmstadt.de/thakur/BEIR/datasets/dbpedia-entity.zip: 49.3%| 315M/639M [00:41<00:42, 7.62MB/s]\u001B[A\n",
      "https://public.ukp.informatik.tu-darmstadt.de/thakur/BEIR/datasets/dbpedia-entity.zip: 50.0%| 320M/639M [00:41<00:41, 7.69MB/s]\u001B[A\n",
      "https://public.ukp.informatik.tu-darmstadt.de/thakur/BEIR/datasets/dbpedia-entity.zip: 50.7%| 324M/639M [00:42<00:40, 7.70MB/s]\u001B[A\n",
      "https://public.ukp.informatik.tu-darmstadt.de/thakur/BEIR/datasets/dbpedia-entity.zip: 51.5%| 329M/639M [00:42<00:39, 7.78MB/s]\u001B[A\n",
      "https://public.ukp.informatik.tu-darmstadt.de/thakur/BEIR/datasets/dbpedia-entity.zip: 52.2%| 333M/639M [00:43<00:39, 7.69MB/s]\u001B[A\n",
      "https://public.ukp.informatik.tu-darmstadt.de/thakur/BEIR/datasets/dbpedia-entity.zip: 52.9%| 338M/639M [00:44<00:39, 7.68MB/s]\u001B[A\n",
      "https://public.ukp.informatik.tu-darmstadt.de/thakur/BEIR/datasets/dbpedia-entity.zip: 53.6%| 343M/639M [00:44<00:38, 7.76MB/s]\u001B[A\n",
      "https://public.ukp.informatik.tu-darmstadt.de/thakur/BEIR/datasets/dbpedia-entity.zip: 54.3%| 347M/639M [00:44<00:37, 7.73MB/s]\u001B[A\n",
      "https://public.ukp.informatik.tu-darmstadt.de/thakur/BEIR/datasets/dbpedia-entity.zip: 55.0%| 352M/639M [00:46<00:37, 7.64MB/s]\u001B[A\n",
      "https://public.ukp.informatik.tu-darmstadt.de/thakur/BEIR/datasets/dbpedia-entity.zip: 55.7%| 356M/639M [00:46<00:36, 7.69MB/s]\u001B[A\n",
      "https://public.ukp.informatik.tu-darmstadt.de/thakur/BEIR/datasets/dbpedia-entity.zip: 56.4%| 361M/639M [00:46<00:35, 7.76MB/s]\u001B[A\n",
      "https://public.ukp.informatik.tu-darmstadt.de/thakur/BEIR/datasets/dbpedia-entity.zip: 57.1%| 365M/639M [00:47<00:35, 7.67MB/s]\u001B[A\n",
      "https://public.ukp.informatik.tu-darmstadt.de/thakur/BEIR/datasets/dbpedia-entity.zip: 57.8%| 370M/639M [00:48<00:35, 7.66MB/s]\u001B[A\n",
      "https://public.ukp.informatik.tu-darmstadt.de/thakur/BEIR/datasets/dbpedia-entity.zip: 58.6%| 374M/639M [00:48<00:34, 7.66MB/s]\u001B[A\n",
      "https://public.ukp.informatik.tu-darmstadt.de/thakur/BEIR/datasets/dbpedia-entity.zip: 59.3%| 379M/639M [00:49<00:33, 7.73MB/s]\u001B[A\n",
      "https://public.ukp.informatik.tu-darmstadt.de/thakur/BEIR/datasets/dbpedia-entity.zip: 60.0%| 383M/639M [00:49<00:33, 7.67MB/s]\u001B[A\n",
      "https://public.ukp.informatik.tu-darmstadt.de/thakur/BEIR/datasets/dbpedia-entity.zip: 60.7%| 388M/639M [00:50<00:32, 7.74MB/s]\u001B[A\n",
      "https://public.ukp.informatik.tu-darmstadt.de/thakur/BEIR/datasets/dbpedia-entity.zip: 61.4%| 392M/639M [00:50<00:31, 7.81MB/s]\u001B[A\n",
      "https://public.ukp.informatik.tu-darmstadt.de/thakur/BEIR/datasets/dbpedia-entity.zip: 62.1%| 397M/639M [00:51<00:31, 7.74MB/s]\u001B[A\n",
      "https://public.ukp.informatik.tu-darmstadt.de/thakur/BEIR/datasets/dbpedia-entity.zip: 62.8%| 402M/639M [00:52<00:31, 7.67MB/s]\u001B[A\n",
      "https://public.ukp.informatik.tu-darmstadt.de/thakur/BEIR/datasets/dbpedia-entity.zip: 63.5%| 406M/639M [00:53<00:30, 7.60MB/s]\u001B[A\n",
      "https://public.ukp.informatik.tu-darmstadt.de/thakur/BEIR/datasets/dbpedia-entity.zip: 64.2%| 411M/639M [00:53<00:29, 7.66MB/s]\u001B[A\n",
      "https://public.ukp.informatik.tu-darmstadt.de/thakur/BEIR/datasets/dbpedia-entity.zip: 64.9%| 415M/639M [00:54<00:29, 7.59MB/s]\u001B[A\n",
      "https://public.ukp.informatik.tu-darmstadt.de/thakur/BEIR/datasets/dbpedia-entity.zip: 65.7%| 420M/639M [00:55<00:29, 7.52MB/s]\u001B[A\n",
      "https://public.ukp.informatik.tu-darmstadt.de/thakur/BEIR/datasets/dbpedia-entity.zip: 66.4%| 424M/639M [00:56<00:28, 7.47MB/s]\u001B[A\n",
      "https://public.ukp.informatik.tu-darmstadt.de/thakur/BEIR/datasets/dbpedia-entity.zip: 67.1%| 429M/639M [00:56<00:27, 7.53MB/s]\u001B[A\n",
      "https://public.ukp.informatik.tu-darmstadt.de/thakur/BEIR/datasets/dbpedia-entity.zip: 67.8%| 433M/639M [00:58<00:27, 7.47MB/s]\u001B[A\n",
      "https://public.ukp.informatik.tu-darmstadt.de/thakur/BEIR/datasets/dbpedia-entity.zip: 68.5%| 438M/639M [00:58<00:26, 7.53MB/s]\u001B[A\n",
      "https://public.ukp.informatik.tu-darmstadt.de/thakur/BEIR/datasets/dbpedia-entity.zip: 69.2%| 442M/639M [00:59<00:26, 7.47MB/s]\u001B[A\n",
      "https://public.ukp.informatik.tu-darmstadt.de/thakur/BEIR/datasets/dbpedia-entity.zip: 69.9%| 447M/639M [01:00<00:25, 7.41MB/s]\u001B[A\n",
      "https://public.ukp.informatik.tu-darmstadt.de/thakur/BEIR/datasets/dbpedia-entity.zip: 70.6%| 451M/639M [01:00<00:25, 7.47MB/s]\u001B[A\n",
      "https://public.ukp.informatik.tu-darmstadt.de/thakur/BEIR/datasets/dbpedia-entity.zip: 71.3%| 456M/639M [01:01<00:24, 7.41MB/s]\u001B[A\n",
      "https://public.ukp.informatik.tu-darmstadt.de/thakur/BEIR/datasets/dbpedia-entity.zip: 72.0%| 461M/639M [01:02<00:24, 7.40MB/s]\u001B[A\n",
      "https://public.ukp.informatik.tu-darmstadt.de/thakur/BEIR/datasets/dbpedia-entity.zip: 72.8%| 465M/639M [01:02<00:23, 7.45MB/s]\u001B[A\n",
      "https://public.ukp.informatik.tu-darmstadt.de/thakur/BEIR/datasets/dbpedia-entity.zip: 73.5%| 470M/639M [01:02<00:22, 7.51MB/s]\u001B[A\n",
      "https://public.ukp.informatik.tu-darmstadt.de/thakur/BEIR/datasets/dbpedia-entity.zip: 74.2%| 474M/639M [01:03<00:22, 7.45MB/s]\u001B[A\n",
      "https://public.ukp.informatik.tu-darmstadt.de/thakur/BEIR/datasets/dbpedia-entity.zip: 74.9%| 479M/639M [01:04<00:21, 7.44MB/s]\u001B[A\n",
      "https://public.ukp.informatik.tu-darmstadt.de/thakur/BEIR/datasets/dbpedia-entity.zip: 75.6%| 483M/639M [01:04<00:20, 7.49MB/s]\u001B[A\n",
      "https://public.ukp.informatik.tu-darmstadt.de/thakur/BEIR/datasets/dbpedia-entity.zip: 76.3%| 488M/639M [01:04<00:20, 7.54MB/s]\u001B[A\n",
      "https://public.ukp.informatik.tu-darmstadt.de/thakur/BEIR/datasets/dbpedia-entity.zip: 77.0%| 492M/639M [01:05<00:19, 7.48MB/s]\u001B[A\n",
      "https://public.ukp.informatik.tu-darmstadt.de/thakur/BEIR/datasets/dbpedia-entity.zip: 77.7%| 497M/639M [01:06<00:19, 7.42MB/s]\u001B[A\n",
      "https://public.ukp.informatik.tu-darmstadt.de/thakur/BEIR/datasets/dbpedia-entity.zip: 78.4%| 501M/639M [01:07<00:18, 7.42MB/s]\u001B[A\n",
      "https://public.ukp.informatik.tu-darmstadt.de/thakur/BEIR/datasets/dbpedia-entity.zip: 79.1%| 506M/639M [01:07<00:17, 7.47MB/s]\u001B[A\n",
      "https://public.ukp.informatik.tu-darmstadt.de/thakur/BEIR/datasets/dbpedia-entity.zip: 79.9%| 510M/639M [01:08<00:17, 7.47MB/s]\u001B[A\n",
      "https://public.ukp.informatik.tu-darmstadt.de/thakur/BEIR/datasets/dbpedia-entity.zip: 80.6%| 515M/639M [01:08<00:16, 7.53MB/s]\u001B[A\n",
      "https://public.ukp.informatik.tu-darmstadt.de/thakur/BEIR/datasets/dbpedia-entity.zip: 81.3%| 520M/639M [01:09<00:16, 7.48MB/s]\u001B[A\n",
      "https://public.ukp.informatik.tu-darmstadt.de/thakur/BEIR/datasets/dbpedia-entity.zip: 82.0%| 524M/639M [01:10<00:15, 7.45MB/s]\u001B[A\n",
      "https://public.ukp.informatik.tu-darmstadt.de/thakur/BEIR/datasets/dbpedia-entity.zip: 82.7%| 529M/639M [01:10<00:14, 7.45MB/s]\u001B[A\n",
      "https://public.ukp.informatik.tu-darmstadt.de/thakur/BEIR/datasets/dbpedia-entity.zip: 83.4%| 533M/639M [01:11<00:14, 7.50MB/s]\u001B[A\n",
      "https://public.ukp.informatik.tu-darmstadt.de/thakur/BEIR/datasets/dbpedia-entity.zip: 84.1%| 538M/639M [01:11<00:13, 7.55MB/s]\u001B[A\n",
      "https://public.ukp.informatik.tu-darmstadt.de/thakur/BEIR/datasets/dbpedia-entity.zip: 84.8%| 542M/639M [01:12<00:12, 7.51MB/s]\u001B[A\n",
      "https://public.ukp.informatik.tu-darmstadt.de/thakur/BEIR/datasets/dbpedia-entity.zip: 85.5%| 547M/639M [01:12<00:12, 7.56MB/s]\u001B[A\n",
      "https://public.ukp.informatik.tu-darmstadt.de/thakur/BEIR/datasets/dbpedia-entity.zip: 86.2%| 551M/639M [01:13<00:11, 7.51MB/s]\u001B[A\n",
      "https://public.ukp.informatik.tu-darmstadt.de/thakur/BEIR/datasets/dbpedia-entity.zip: 87.0%| 556M/639M [01:13<00:11, 7.56MB/s]\u001B[A\n",
      "https://public.ukp.informatik.tu-darmstadt.de/thakur/BEIR/datasets/dbpedia-entity.zip: 87.7%| 560M/639M [01:14<00:10, 7.51MB/s]\u001B[A\n",
      "https://public.ukp.informatik.tu-darmstadt.de/thakur/BEIR/datasets/dbpedia-entity.zip: 88.4%| 565M/639M [01:15<00:09, 7.47MB/s]\u001B[A\n",
      "https://public.ukp.informatik.tu-darmstadt.de/thakur/BEIR/datasets/dbpedia-entity.zip: 89.1%| 569M/639M [01:15<00:09, 7.52MB/s]\u001B[A\n",
      "https://public.ukp.informatik.tu-darmstadt.de/thakur/BEIR/datasets/dbpedia-entity.zip: 89.8%| 574M/639M [01:15<00:08, 7.56MB/s]\u001B[A\n",
      "https://public.ukp.informatik.tu-darmstadt.de/thakur/BEIR/datasets/dbpedia-entity.zip: 90.5%| 579M/639M [01:16<00:08, 7.52MB/s]\u001B[A\n",
      "https://public.ukp.informatik.tu-darmstadt.de/thakur/BEIR/datasets/dbpedia-entity.zip: 91.2%| 583M/639M [01:17<00:07, 7.52MB/s]\u001B[A\n",
      "https://public.ukp.informatik.tu-darmstadt.de/thakur/BEIR/datasets/dbpedia-entity.zip: 91.9%| 588M/639M [01:18<00:06, 7.53MB/s]\u001B[A\n",
      "https://public.ukp.informatik.tu-darmstadt.de/thakur/BEIR/datasets/dbpedia-entity.zip: 92.6%| 592M/639M [01:18<00:06, 7.57MB/s]\u001B[A\n",
      "https://public.ukp.informatik.tu-darmstadt.de/thakur/BEIR/datasets/dbpedia-entity.zip: 93.3%| 597M/639M [01:18<00:05, 7.56MB/s]\u001B[A\n",
      "https://public.ukp.informatik.tu-darmstadt.de/thakur/BEIR/datasets/dbpedia-entity.zip: 94.0%| 601M/639M [01:19<00:05, 7.60MB/s]\u001B[A\n",
      "https://public.ukp.informatik.tu-darmstadt.de/thakur/BEIR/datasets/dbpedia-entity.zip: 94.8%| 606M/639M [01:20<00:04, 7.56MB/s]\u001B[A\n",
      "https://public.ukp.informatik.tu-darmstadt.de/thakur/BEIR/datasets/dbpedia-entity.zip: 95.5%| 610M/639M [01:20<00:03, 7.55MB/s]\u001B[A\n",
      "https://public.ukp.informatik.tu-darmstadt.de/thakur/BEIR/datasets/dbpedia-entity.zip: 96.2%| 615M/639M [01:21<00:03, 7.56MB/s]\u001B[A\n",
      "https://public.ukp.informatik.tu-darmstadt.de/thakur/BEIR/datasets/dbpedia-entity.zip: 96.9%| 619M/639M [01:21<00:02, 7.60MB/s]\u001B[A\n",
      "https://public.ukp.informatik.tu-darmstadt.de/thakur/BEIR/datasets/dbpedia-entity.zip: 97.6%| 624M/639M [01:21<00:02, 7.64MB/s]\u001B[A\n",
      "https://public.ukp.informatik.tu-darmstadt.de/thakur/BEIR/datasets/dbpedia-entity.zip: 98.3%| 628M/639M [01:22<00:01, 7.60MB/s]\u001B[A\n",
      "https://public.ukp.informatik.tu-darmstadt.de/thakur/BEIR/datasets/dbpedia-entity.zip: 99.0%| 633M/639M [01:22<00:00, 7.64MB/s]\u001B[A\n",
      "                                                                                y.zip: 99.7%| 638M/639M [01:23<00:00, 7.60MB/s]\u001B[A\r\n",
      "\u001B[A                                                                                                                            [INFO] [finished] https://public.ukp.informatik.tu-darmstadt.de/thakur/BEIR/datasets/dbpedia-entity.zip: [01:23] [639MB] [7.62MB/s]\n",
      "docs_iter:   0%|                                   | 0/4635922 [01:24<?, ?doc/s]\n",
      "https://public.ukp.informatik.tu-darmstadt.de/thakur/BEIR/datasets/dbpedia-entity.zip: [01:23] [639MB] [7.62MB/s]\u001B[A\n",
      "[INFO] [finished] opening zip file [01:24]                                                                       \u001B[A\n",
      "docs_iter:  40%|███████▏          | 1855090/4635922 [02:41<04:02, 11460.67doc/s]"
     ]
    }
   ],
   "execution_count": null
  },
  {
   "cell_type": "code",
   "execution_count": null,
   "metadata": {},
   "outputs": [],
   "source": [
    "idx_path = Path.cwd() / \"indices\" / \"trec_robust_index\"\n",
    "\n",
    "index = pt.IterDictIndexer(\n",
    "    str(idx_path),\n",
    "        meta={\n",
    "        \"docno\": 39,\n",
    "        \"text\": 131072,\n",
    "    },\n",
    ").index(dataset_trec_robust.get_corpus_iter())"
   ],
   "id": "9e2efd292ea19950"
  }
 ],
 "metadata": {
  "kernelspec": {
   "display_name": "IR",
   "language": "python",
   "name": "python3"
  },
  "language_info": {
   "codemirror_mode": {
    "name": "ipython",
    "version": 3
   },
   "file_extension": ".py",
   "mimetype": "text/x-python",
   "name": "python",
   "nbconvert_exporter": "python",
   "pygments_lexer": "ipython3",
   "version": "3.11.0"
  }
 },
 "nbformat": 4,
 "nbformat_minor": 2
}
